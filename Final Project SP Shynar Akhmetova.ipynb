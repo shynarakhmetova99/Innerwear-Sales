{
 "cells": [
  {
   "cell_type": "markdown",
   "id": "e6a4c315",
   "metadata": {},
   "source": [
    "# The Final Project for Scientific Python\n",
    "<br>\n",
    "by Shynar Akhmetova\n",
    "<br>\n",
    "\n",
    "Central European University, Winter 2022-2023\n",
    "<br>\n",
    "\n",
    "**Research question**: What are the potential factors (i.e., product qualities) that drive the customer behavior and define the brand's success in terms of innerwear sales for the period of June 2017 to July 2017?\n",
    "<br>\n",
    "\n",
    "**Used datasets**: amazon_com.csv & others from [this website](https://www.kaggle.com/datasets/PromptCloudHQ/innerwear-data-from-victorias-secret-and-others)\n",
    "<br>\n",
    "\n",
    "**Analyzed relationships**:\n",
    "<br>\n",
    "(1) The relationship between *pricing* and sales of innerwear items\n",
    "<br>\n",
    "(2) The relationship between *rating* and sales of innerwear items\n",
    "<br>\n",
    "(3) The most successful *brand* in terms of sales of innerwear items\n",
    "<br>\n",
    "(4) The most successful *color* in terms of sales of innerwear items\n",
    "<br>\n",
    "(5) The most successful *retail platform* in terms of sales of innerwear items\n",
    "<br>\n",
    "(6) The multiple regression of rating on rating, brand, and color"
   ]
  },
  {
   "cell_type": "code",
   "execution_count": 1,
   "id": "ef7b4fa9",
   "metadata": {},
   "outputs": [],
   "source": [
    "import numpy as np\n",
    "import matplotlib.pyplot as plt\n",
    "import pandas as pd\n",
    "from scipy import stats"
   ]
  },
  {
   "cell_type": "markdown",
   "id": "cbac6647",
   "metadata": {},
   "source": [
    "# (1) The effect of pricing"
   ]
  },
  {
   "attachments": {
    "image-2.png": {
     "image/png": "[encoded data removed]"
    }
   },
   "cell_type": "markdown",
   "id": "502aaa9b",
   "metadata": {},
   "source": [
    "![image-2.png](attachment:image-2.png)\n",
    "This formula represents linear regression where\n",
    "<br>\n",
    "*$y_{i}$* represents estimated sales for onservation *i*\n",
    "<br>\n",
    "*α* - estimated intercept coefficient\n",
    "<br>\n",
    "*β* - estimated price coefficient\n",
    "<br>\n",
    "*$x_{i}$* - x value for observation *i*"
   ]
  },
  {
   "cell_type": "code",
   "execution_count": 2,
   "id": "fca56143",
   "metadata": {
    "scrolled": true
   },
   "outputs": [
    {
     "data": {
      "text/html": [
       "<div>\n",
       "<style scoped>\n",
       "    .dataframe tbody tr th:only-of-type {\n",
       "        vertical-align: middle;\n",
       "    }\n",
       "\n",
       "    .dataframe tbody tr th {\n",
       "        vertical-align: top;\n",
       "    }\n",
       "\n",
       "    .dataframe thead th {\n",
       "        text-align: right;\n",
       "    }\n",
       "</style>\n",
       "<table border=\"1\" class=\"dataframe\">\n",
       "  <thead>\n",
       "    <tr style=\"text-align: right;\">\n",
       "      <th></th>\n",
       "      <th>product_name</th>\n",
       "      <th>mrp</th>\n",
       "      <th>price</th>\n",
       "      <th>pdp_url</th>\n",
       "      <th>brand_name</th>\n",
       "      <th>product_category</th>\n",
       "      <th>retailer</th>\n",
       "      <th>description</th>\n",
       "      <th>rating</th>\n",
       "      <th>review_count</th>\n",
       "      <th>style_attributes</th>\n",
       "      <th>total_sizes</th>\n",
       "      <th>available_size</th>\n",
       "      <th>color</th>\n",
       "    </tr>\n",
       "  </thead>\n",
       "  <tbody>\n",
       "    <tr>\n",
       "      <th>0</th>\n",
       "      <td>Calvin Klein Women's Sheer Marquisette Demi Un...</td>\n",
       "      <td>$36.00</td>\n",
       "      <td>$32.40</td>\n",
       "      <td>https://www.amazon.com/-/dp/B01NAVD98J?th=1&amp;psc=1</td>\n",
       "      <td>Calvin-Klein</td>\n",
       "      <td>Bras</td>\n",
       "      <td>Amazon US</td>\n",
       "      <td>An unlined demi cup bra featuring sheer, sexy ...</td>\n",
       "      <td>4.5</td>\n",
       "      <td>47</td>\n",
       "      <td>[ 72% Nylon, 28% Elastane , Imported , hook an...</td>\n",
       "      <td>30B , 30C , 30D , 30DD , 32A , 32B , 32C , 32D...</td>\n",
       "      <td>30B , 30C , 30D , 30DD , 32B , 32C , 32D , 32D...</td>\n",
       "      <td>Bare</td>\n",
       "    </tr>\n",
       "    <tr>\n",
       "      <th>1</th>\n",
       "      <td>Wacoal Embrace Lace Bikini Panty</td>\n",
       "      <td>$27.00</td>\n",
       "      <td>$27.00</td>\n",
       "      <td>https://www.amazon.com/-/dp/B0011YQFNK?th=1&amp;psc=1</td>\n",
       "      <td>Wacoal</td>\n",
       "      <td>Panties</td>\n",
       "      <td>Amazon US</td>\n",
       "      <td>Embrace lace bikini offers great fit and match...</td>\n",
       "      <td>4.4</td>\n",
       "      <td>91</td>\n",
       "      <td>[ 100% Nylon , Imported , Hand Wash , 1.2\" hig...</td>\n",
       "      <td>Small , Medium , Large , X-Large</td>\n",
       "      <td>Small , Medium , X-Large</td>\n",
       "      <td>Large</td>\n",
       "    </tr>\n",
       "    <tr>\n",
       "      <th>2</th>\n",
       "      <td>Wacoal Women's Slimline Seamless Minimizer Bra</td>\n",
       "      <td>$65.00</td>\n",
       "      <td>$65.00</td>\n",
       "      <td>https://www.amazon.com/-/dp/B000T3606Q?th=1&amp;psc=1</td>\n",
       "      <td>Wacoal</td>\n",
       "      <td>Bras</td>\n",
       "      <td>Amazon US</td>\n",
       "      <td>Seamless underwire minimizer bra gives great s...</td>\n",
       "      <td>4.3</td>\n",
       "      <td>298</td>\n",
       "      <td>[ Cups: 100% Polyester; Back: 71% Nylon, 29% S...</td>\n",
       "      <td>32DD , 32DDD , 34C , 34D , 34DD , 34DDD , 36C ...</td>\n",
       "      <td>32DD , 32DDD , 34C , 34D , 34DD , 34DDD , 36C ...</td>\n",
       "      <td>Black</td>\n",
       "    </tr>\n",
       "    <tr>\n",
       "      <th>3</th>\n",
       "      <td>Hanky Panky Womens Signature Lace Retro V-Kini</td>\n",
       "      <td>$36.00</td>\n",
       "      <td>$36.00</td>\n",
       "      <td>https://www.amazon.com/-/dp/B003Y6AX0Y?th=1&amp;psc=1</td>\n",
       "      <td>Hanky-Panky</td>\n",
       "      <td>Panties</td>\n",
       "      <td>Amazon US</td>\n",
       "      <td>All-day comfort describes this figure-flatteri...</td>\n",
       "      <td>4.4</td>\n",
       "      <td>46</td>\n",
       "      <td>[ Made in USA , All-day comfort describes this...</td>\n",
       "      <td>Small , Medium , Large , X-Large</td>\n",
       "      <td>Small , Medium , X-Large</td>\n",
       "      <td>Large</td>\n",
       "    </tr>\n",
       "    <tr>\n",
       "      <th>4</th>\n",
       "      <td>Wacoal Women's Red Carpet Strapless Bra</td>\n",
       "      <td>$65.00</td>\n",
       "      <td>$65.00</td>\n",
       "      <td>https://www.amazon.com/-/dp/B01CEBGQA0?th=1&amp;psc=1</td>\n",
       "      <td>Wacoal</td>\n",
       "      <td>Bras</td>\n",
       "      <td>Amazon US</td>\n",
       "      <td>Red Carpet full figure strapless fits great, s...</td>\n",
       "      <td>4.4</td>\n",
       "      <td>747</td>\n",
       "      <td>[ 91% Nylon, 9% Spandex , Imported , hook and ...</td>\n",
       "      <td>30D , 30DD , 30DDD , 30G , 32C , 32D , 32DD , ...</td>\n",
       "      <td>30D , 30DD , 30DDD , 30G , 32C , 32D , 32DD , ...</td>\n",
       "      <td>Pecan</td>\n",
       "    </tr>\n",
       "    <tr>\n",
       "      <th>...</th>\n",
       "      <td>...</td>\n",
       "      <td>...</td>\n",
       "      <td>...</td>\n",
       "      <td>...</td>\n",
       "      <td>...</td>\n",
       "      <td>...</td>\n",
       "      <td>...</td>\n",
       "      <td>...</td>\n",
       "      <td>...</td>\n",
       "      <td>...</td>\n",
       "      <td>...</td>\n",
       "      <td>...</td>\n",
       "      <td>...</td>\n",
       "      <td>...</td>\n",
       "    </tr>\n",
       "    <tr>\n",
       "      <th>31607</th>\n",
       "      <td>Wacoal Women's Red Carpet Strapless Bra</td>\n",
       "      <td>$65.00</td>\n",
       "      <td>$65.00</td>\n",
       "      <td>https://www.amazon.com/-/dp/B01CEBGODE?th=1&amp;psc=1</td>\n",
       "      <td>Wacoal</td>\n",
       "      <td>Bras</td>\n",
       "      <td>Amazon US</td>\n",
       "      <td>Red Carpet full figure strapless fits great, s...</td>\n",
       "      <td>4.4</td>\n",
       "      <td>806</td>\n",
       "      <td>[ 91% Nylon, 9% Spandex , Imported , Hand Wash...</td>\n",
       "      <td>30D , 30DD , 30DDD , 30G , 32C , 32D , 32DD , ...</td>\n",
       "      <td>30D , 30DD , 30DDD , 30G , 32C , 32D , 32DD , ...</td>\n",
       "      <td>Pecan</td>\n",
       "    </tr>\n",
       "    <tr>\n",
       "      <th>31608</th>\n",
       "      <td>Wacoal Women's Underwire Sport Bra</td>\n",
       "      <td>$65.00</td>\n",
       "      <td>$54.50</td>\n",
       "      <td>https://www.amazon.com/-/dp/B01GTNW0TA?th=1&amp;psc=1</td>\n",
       "      <td>Wacoal</td>\n",
       "      <td>Bras</td>\n",
       "      <td>Amazon US</td>\n",
       "      <td>Sport bra offers great control, support and co...</td>\n",
       "      <td>4.3</td>\n",
       "      <td>1846</td>\n",
       "      <td>[ 80% Nylon/ 20% Spandex/Elastane , Imported ,...</td>\n",
       "      <td>32C , 32D , 32DD , 32DDD , 32G , 32H , 34C , 3...</td>\n",
       "      <td>32C , 32D , 32DD , 32G , 32H , 34C , 34D , 34D...</td>\n",
       "      <td>Teaberry/Gray</td>\n",
       "    </tr>\n",
       "    <tr>\n",
       "      <th>31609</th>\n",
       "      <td>Wacoal Women's Retro Chic Underwire Bra</td>\n",
       "      <td>$60.00</td>\n",
       "      <td>$60.00</td>\n",
       "      <td>https://www.amazon.com/-/dp/B01N6KT7XE?th=1&amp;psc=1</td>\n",
       "      <td>Wacoal</td>\n",
       "      <td>Bras</td>\n",
       "      <td>Amazon US</td>\n",
       "      <td>Beautiful low plunge chantilly lace bra with s...</td>\n",
       "      <td>4.4</td>\n",
       "      <td>753</td>\n",
       "      <td>[ Lace: 100% Nylon; Back: 82% Nylon, 18% Spand...</td>\n",
       "      <td>30B , 30D , 32B , 32C , 32D , 32DD , 32DDD , 3...</td>\n",
       "      <td>32D , 32DD , 32DDD , 32G , 34C , 34D , 34DD , ...</td>\n",
       "      <td>Violet Tulip</td>\n",
       "    </tr>\n",
       "    <tr>\n",
       "      <th>31610</th>\n",
       "      <td>Wacoal Women's Halo Underwire Bra</td>\n",
       "      <td>$48.00</td>\n",
       "      <td>$48.00</td>\n",
       "      <td>https://www.amazon.com/-/dp/B00SJ6UBTC?th=1&amp;psc=1</td>\n",
       "      <td>Wacoal</td>\n",
       "      <td>Bras</td>\n",
       "      <td>Amazon US</td>\n",
       "      <td>Beautiful all over cross-dye soft lace cups an...</td>\n",
       "      <td>4.4</td>\n",
       "      <td>379</td>\n",
       "      <td>[ 82% Nylon, 18% Spandex , Imported , Hook and...</td>\n",
       "      <td>32C , 32D , 32DD , 32DDD , 32G , 34B , 34C , 3...</td>\n",
       "      <td>32C , 32D , 32DD , 32DDD , 32G , 34B , 34C , 3...</td>\n",
       "      <td>Ivory</td>\n",
       "    </tr>\n",
       "    <tr>\n",
       "      <th>31611</th>\n",
       "      <td>Wacoal Women's Retro Chic Underwire Bra</td>\n",
       "      <td>$43.06</td>\n",
       "      <td>$43.06</td>\n",
       "      <td>https://www.amazon.com/-/dp/B01B4GBQ7O?th=1&amp;psc=1</td>\n",
       "      <td>Wacoal</td>\n",
       "      <td>Bras</td>\n",
       "      <td>Amazon US</td>\n",
       "      <td>Beautiful low plunge chantilly lace bra with s...</td>\n",
       "      <td>4.4</td>\n",
       "      <td>753</td>\n",
       "      <td>[ Lace: 100% Nylon; Back: 82% Nylon, 18% Spand...</td>\n",
       "      <td>30B , 30D , 32B , 32C , 32D , 32DD , 32DDD , 3...</td>\n",
       "      <td>32DD , 32DDD , 34C , 34D , 34DD , 34DDD , 34G ...</td>\n",
       "      <td>Raspberry</td>\n",
       "    </tr>\n",
       "  </tbody>\n",
       "</table>\n",
       "<p>31612 rows × 14 columns</p>\n",
       "</div>"
      ],
      "text/plain": [
       "                                            product_name      mrp    price  \\\n",
       "0      Calvin Klein Women's Sheer Marquisette Demi Un...  $36.00   $32.40    \n",
       "1                       Wacoal Embrace Lace Bikini Panty  $27.00   $27.00    \n",
       "2         Wacoal Women's Slimline Seamless Minimizer Bra  $65.00   $65.00    \n",
       "3         Hanky Panky Womens Signature Lace Retro V-Kini  $36.00   $36.00    \n",
       "4                Wacoal Women's Red Carpet Strapless Bra  $65.00   $65.00    \n",
       "...                                                  ...      ...      ...   \n",
       "31607            Wacoal Women's Red Carpet Strapless Bra  $65.00   $65.00    \n",
       "31608                 Wacoal Women's Underwire Sport Bra  $65.00   $54.50    \n",
       "31609            Wacoal Women's Retro Chic Underwire Bra  $60.00   $60.00    \n",
       "31610                  Wacoal Women's Halo Underwire Bra  $48.00   $48.00    \n",
       "31611            Wacoal Women's Retro Chic Underwire Bra  $43.06   $43.06    \n",
       "\n",
       "                                                 pdp_url    brand_name  \\\n",
       "0      https://www.amazon.com/-/dp/B01NAVD98J?th=1&psc=1  Calvin-Klein   \n",
       "1      https://www.amazon.com/-/dp/B0011YQFNK?th=1&psc=1        Wacoal   \n",
       "2      https://www.amazon.com/-/dp/B000T3606Q?th=1&psc=1        Wacoal   \n",
       "3      https://www.amazon.com/-/dp/B003Y6AX0Y?th=1&psc=1   Hanky-Panky   \n",
       "4      https://www.amazon.com/-/dp/B01CEBGQA0?th=1&psc=1        Wacoal   \n",
       "...                                                  ...           ...   \n",
       "31607  https://www.amazon.com/-/dp/B01CEBGODE?th=1&psc=1        Wacoal   \n",
       "31608  https://www.amazon.com/-/dp/B01GTNW0TA?th=1&psc=1        Wacoal   \n",
       "31609  https://www.amazon.com/-/dp/B01N6KT7XE?th=1&psc=1        Wacoal   \n",
       "31610  https://www.amazon.com/-/dp/B00SJ6UBTC?th=1&psc=1        Wacoal   \n",
       "31611  https://www.amazon.com/-/dp/B01B4GBQ7O?th=1&psc=1        Wacoal   \n",
       "\n",
       "      product_category   retailer  \\\n",
       "0                 Bras  Amazon US   \n",
       "1              Panties  Amazon US   \n",
       "2                 Bras  Amazon US   \n",
       "3              Panties  Amazon US   \n",
       "4                 Bras  Amazon US   \n",
       "...                ...        ...   \n",
       "31607             Bras  Amazon US   \n",
       "31608             Bras  Amazon US   \n",
       "31609             Bras  Amazon US   \n",
       "31610             Bras  Amazon US   \n",
       "31611             Bras  Amazon US   \n",
       "\n",
       "                                             description  rating  \\\n",
       "0      An unlined demi cup bra featuring sheer, sexy ...     4.5   \n",
       "1      Embrace lace bikini offers great fit and match...     4.4   \n",
       "2      Seamless underwire minimizer bra gives great s...     4.3   \n",
       "3      All-day comfort describes this figure-flatteri...     4.4   \n",
       "4      Red Carpet full figure strapless fits great, s...     4.4   \n",
       "...                                                  ...     ...   \n",
       "31607  Red Carpet full figure strapless fits great, s...     4.4   \n",
       "31608  Sport bra offers great control, support and co...     4.3   \n",
       "31609  Beautiful low plunge chantilly lace bra with s...     4.4   \n",
       "31610  Beautiful all over cross-dye soft lace cups an...     4.4   \n",
       "31611  Beautiful low plunge chantilly lace bra with s...     4.4   \n",
       "\n",
       "       review_count                                   style_attributes  \\\n",
       "0                47  [ 72% Nylon, 28% Elastane , Imported , hook an...   \n",
       "1                91  [ 100% Nylon , Imported , Hand Wash , 1.2\" hig...   \n",
       "2               298  [ Cups: 100% Polyester; Back: 71% Nylon, 29% S...   \n",
       "3                46  [ Made in USA , All-day comfort describes this...   \n",
       "4               747  [ 91% Nylon, 9% Spandex , Imported , hook and ...   \n",
       "...             ...                                                ...   \n",
       "31607           806  [ 91% Nylon, 9% Spandex , Imported , Hand Wash...   \n",
       "31608          1846  [ 80% Nylon/ 20% Spandex/Elastane , Imported ,...   \n",
       "31609           753  [ Lace: 100% Nylon; Back: 82% Nylon, 18% Spand...   \n",
       "31610           379  [ 82% Nylon, 18% Spandex , Imported , Hook and...   \n",
       "31611           753  [ Lace: 100% Nylon; Back: 82% Nylon, 18% Spand...   \n",
       "\n",
       "                                             total_sizes  \\\n",
       "0      30B , 30C , 30D , 30DD , 32A , 32B , 32C , 32D...   \n",
       "1                       Small , Medium , Large , X-Large   \n",
       "2      32DD , 32DDD , 34C , 34D , 34DD , 34DDD , 36C ...   \n",
       "3                       Small , Medium , Large , X-Large   \n",
       "4      30D , 30DD , 30DDD , 30G , 32C , 32D , 32DD , ...   \n",
       "...                                                  ...   \n",
       "31607  30D , 30DD , 30DDD , 30G , 32C , 32D , 32DD , ...   \n",
       "31608  32C , 32D , 32DD , 32DDD , 32G , 32H , 34C , 3...   \n",
       "31609  30B , 30D , 32B , 32C , 32D , 32DD , 32DDD , 3...   \n",
       "31610  32C , 32D , 32DD , 32DDD , 32G , 34B , 34C , 3...   \n",
       "31611  30B , 30D , 32B , 32C , 32D , 32DD , 32DDD , 3...   \n",
       "\n",
       "                                          available_size          color  \n",
       "0      30B , 30C , 30D , 30DD , 32B , 32C , 32D , 32D...           Bare  \n",
       "1                               Small , Medium , X-Large          Large  \n",
       "2      32DD , 32DDD , 34C , 34D , 34DD , 34DDD , 36C ...          Black  \n",
       "3                               Small , Medium , X-Large          Large  \n",
       "4      30D , 30DD , 30DDD , 30G , 32C , 32D , 32DD , ...          Pecan  \n",
       "...                                                  ...            ...  \n",
       "31607  30D , 30DD , 30DDD , 30G , 32C , 32D , 32DD , ...          Pecan  \n",
       "31608  32C , 32D , 32DD , 32G , 32H , 34C , 34D , 34D...  Teaberry/Gray  \n",
       "31609  32D , 32DD , 32DDD , 32G , 34C , 34D , 34DD , ...   Violet Tulip  \n",
       "31610  32C , 32D , 32DD , 32DDD , 32G , 34B , 34C , 3...          Ivory  \n",
       "31611  32DD , 32DDD , 34C , 34D , 34DD , 34DDD , 34G ...      Raspberry  \n",
       "\n",
       "[31612 rows x 14 columns]"
      ]
     },
     "execution_count": 2,
     "metadata": {},
     "output_type": "execute_result"
    }
   ],
   "source": [
    "#loading data from csv file to the dataframe\n",
    "amazon_df = pd.read_csv('amazon_com.csv')\n",
    "amazon_df"
   ]
  },
  {
   "cell_type": "code",
   "execution_count": 3,
   "id": "1fc9f543",
   "metadata": {},
   "outputs": [
    {
     "name": "stderr",
     "output_type": "stream",
     "text": [
      "C:\\Users\\Akhmetova_Shynar\\AppData\\Local\\Temp\\ipykernel_7516\\1871199345.py:2: FutureWarning: The default value of regex will change from True to False in a future version. In addition, single character regular expressions will *not* be treated as literal strings when regex=True.\n",
      "  amazon_df['price'] = amazon_df['price'].str.replace('$','')\n"
     ]
    },
    {
     "data": {
      "text/plain": [
       "0        32.40\n",
       "1        27.00\n",
       "2        65.00\n",
       "3        36.00\n",
       "4        65.00\n",
       "         ...  \n",
       "31607    65.00\n",
       "31608    54.50\n",
       "31609    60.00\n",
       "31610    48.00\n",
       "31611    43.06\n",
       "Name: price, Length: 31612, dtype: float64"
      ]
     },
     "execution_count": 3,
     "metadata": {},
     "output_type": "execute_result"
    }
   ],
   "source": [
    "#converting price values to the appropriate format\n",
    "amazon_df['price'] = amazon_df['price'].str.replace('$','')\n",
    "pd.to_numeric(amazon_df['price'], downcast='integer')"
   ]
  },
  {
   "cell_type": "code",
   "execution_count": 4,
   "id": "fd89833b",
   "metadata": {
    "scrolled": true
   },
   "outputs": [
    {
     "data": {
      "text/html": [
       "<div>\n",
       "<style scoped>\n",
       "    .dataframe tbody tr th:only-of-type {\n",
       "        vertical-align: middle;\n",
       "    }\n",
       "\n",
       "    .dataframe tbody tr th {\n",
       "        vertical-align: top;\n",
       "    }\n",
       "\n",
       "    .dataframe thead th {\n",
       "        text-align: right;\n",
       "    }\n",
       "</style>\n",
       "<table border=\"1\" class=\"dataframe\">\n",
       "  <thead>\n",
       "    <tr style=\"text-align: right;\">\n",
       "      <th></th>\n",
       "      <th>product_name</th>\n",
       "      <th>price</th>\n",
       "      <th>sales</th>\n",
       "    </tr>\n",
       "  </thead>\n",
       "  <tbody>\n",
       "    <tr>\n",
       "      <th>0</th>\n",
       "      <td>Calvin Klein Underwear Women's Carousel 3 Pack...</td>\n",
       "      <td>33.00</td>\n",
       "      <td>46</td>\n",
       "    </tr>\n",
       "    <tr>\n",
       "      <th>1</th>\n",
       "      <td>Calvin Klein Women's 3 Pack Carousel Thong Panty</td>\n",
       "      <td>19.99</td>\n",
       "      <td>2</td>\n",
       "    </tr>\n",
       "    <tr>\n",
       "      <th>2</th>\n",
       "      <td>Calvin Klein Women's 3 Pack Carousel Thong Panty</td>\n",
       "      <td>20.99</td>\n",
       "      <td>10</td>\n",
       "    </tr>\n",
       "    <tr>\n",
       "      <th>3</th>\n",
       "      <td>Calvin Klein Women's 3 Pack Carousel Thong Panty</td>\n",
       "      <td>22.99</td>\n",
       "      <td>4</td>\n",
       "    </tr>\n",
       "    <tr>\n",
       "      <th>4</th>\n",
       "      <td>Calvin Klein Women's 3 Pack Carousel Thong Panty</td>\n",
       "      <td>23.10</td>\n",
       "      <td>2</td>\n",
       "    </tr>\n",
       "    <tr>\n",
       "      <th>...</th>\n",
       "      <td>...</td>\n",
       "      <td>...</td>\n",
       "      <td>...</td>\n",
       "    </tr>\n",
       "    <tr>\n",
       "      <th>2599</th>\n",
       "      <td>b.tempt'd by Wacoal Womens Ciao Bella Tanga Panty</td>\n",
       "      <td>17.49</td>\n",
       "      <td>10</td>\n",
       "    </tr>\n",
       "    <tr>\n",
       "      <th>2600</th>\n",
       "      <td>b.tempt'd by Wacoal Womens Ciao Bella Tanga Panty</td>\n",
       "      <td>17.89</td>\n",
       "      <td>1</td>\n",
       "    </tr>\n",
       "    <tr>\n",
       "      <th>2601</th>\n",
       "      <td>b.tempt'd by Wacoal Womens Ciao Bella Tanga Panty</td>\n",
       "      <td>18.27</td>\n",
       "      <td>4</td>\n",
       "    </tr>\n",
       "    <tr>\n",
       "      <th>2602</th>\n",
       "      <td>b.tempt'd by Wacoal Womens Ciao Bella Tanga Panty</td>\n",
       "      <td>18.99</td>\n",
       "      <td>14</td>\n",
       "    </tr>\n",
       "    <tr>\n",
       "      <th>2603</th>\n",
       "      <td>b.tempt'd by Wacoal Womens Ciao Bella Tanga Panty</td>\n",
       "      <td>19.00</td>\n",
       "      <td>58</td>\n",
       "    </tr>\n",
       "  </tbody>\n",
       "</table>\n",
       "<p>2604 rows × 3 columns</p>\n",
       "</div>"
      ],
      "text/plain": [
       "                                           product_name   price  sales\n",
       "0     Calvin Klein Underwear Women's Carousel 3 Pack...  33.00      46\n",
       "1      Calvin Klein Women's 3 Pack Carousel Thong Panty  19.99       2\n",
       "2      Calvin Klein Women's 3 Pack Carousel Thong Panty  20.99      10\n",
       "3      Calvin Klein Women's 3 Pack Carousel Thong Panty  22.99       4\n",
       "4      Calvin Klein Women's 3 Pack Carousel Thong Panty  23.10       2\n",
       "...                                                 ...     ...    ...\n",
       "2599  b.tempt'd by Wacoal Womens Ciao Bella Tanga Panty  17.49      10\n",
       "2600  b.tempt'd by Wacoal Womens Ciao Bella Tanga Panty  17.89       1\n",
       "2601  b.tempt'd by Wacoal Womens Ciao Bella Tanga Panty  18.27       4\n",
       "2602  b.tempt'd by Wacoal Womens Ciao Bella Tanga Panty  18.99      14\n",
       "2603  b.tempt'd by Wacoal Womens Ciao Bella Tanga Panty  19.00      58\n",
       "\n",
       "[2604 rows x 3 columns]"
      ]
     },
     "execution_count": 4,
     "metadata": {},
     "output_type": "execute_result"
    }
   ],
   "source": [
    "#creating a separate dataframe containing product name, its price, and its sales\n",
    "sales_price = amazon_df.groupby(['product_name', 'price']).size().reset_index(name='sales')\n",
    "sales_price"
   ]
  },
  {
   "cell_type": "code",
   "execution_count": 5,
   "id": "e3f09309",
   "metadata": {},
   "outputs": [
    {
     "data": {
      "image/png": "[encoded data removed]",
      "text/plain": [
       "<Figure size 576x432 with 1 Axes>"
      ]
     },
     "metadata": {
      "needs_background": "light"
     },
     "output_type": "display_data"
    }
   ],
   "source": [
    "#visualizing data for the preliminary analysis using the scatter plot\n",
    "plt.figure(figsize=(8, 6))\n",
    "sales_price['price'] = sales_price['price'].astype(float)\n",
    "unique_prices = sales_price['price'].unique()\n",
    "tick_positions = np.linspace(min(unique_prices), max(unique_prices), 10)\n",
    "plt.scatter(sales_price['price'],sales_price['sales'], alpha=0.5)\n",
    "plt.xticks(tick_positions)\n",
    "plt.xlabel('Price')\n",
    "plt.ylabel('Sales Count')\n",
    "plt.title('Sales Count vs. Price');"
   ]
  },
  {
   "cell_type": "code",
   "execution_count": 6,
   "id": "082f9d10",
   "metadata": {
    "scrolled": false
   },
   "outputs": [],
   "source": [
    "#performing the linear regression analysis\n",
    "slope_lin_p, intercept_lin_p, r_value_lin_p, p_value_lin_p, std_err_lin_p = stats.linregress(sales_price['price'], sales_price['sales'])"
   ]
  },
  {
   "cell_type": "code",
   "execution_count": 7,
   "id": "e498b3d0",
   "metadata": {},
   "outputs": [
    {
     "data": {
      "image/png": "[encoded data removed]",
      "text/plain": [
       "<Figure size 576x432 with 1 Axes>"
      ]
     },
     "metadata": {
      "needs_background": "light"
     },
     "output_type": "display_data"
    }
   ],
   "source": [
    "#plotting the linear fit against the data\n",
    "plt.figure(figsize=(8, 6))\n",
    "plt.scatter(sales_price['price'], sales_price['sales'], label='Data', alpha=0.5)\n",
    "plt.plot(sales_price['price'], slope_lin_p*sales_price['price']+intercept_lin_p, color='red', label='Linear Regression')\n",
    "plt.xticks(tick_positions)\n",
    "plt.xlabel('Price, USD')\n",
    "plt.ylabel('Sales')\n",
    "plt.legend()\n",
    "plt.title('Sales Count vs. Price with Linear Fit');"
   ]
  },
  {
   "cell_type": "code",
   "execution_count": 8,
   "id": "0c696aa2",
   "metadata": {},
   "outputs": [],
   "source": [
    "from sklearn.linear_model import LinearRegression\n",
    "from sklearn.preprocessing import PolynomialFeatures\n",
    "from sklearn.metrics import r2_score\n",
    "import statsmodels.api as sm"
   ]
  },
  {
   "attachments": {
    "image.png": {
     "image/png": "[encoded data removed]"
    }
   },
   "cell_type": "markdown",
   "id": "ae3c8ace",
   "metadata": {},
   "source": [
    "![image.png](attachment:image.png)\n",
    "This formula represents quadratic polynomial regression where\n",
    "<br>\n",
    "*$y^{E}$* stands for estimated sales\n",
    "<br>\n",
    "*α* - estimated intercept coefficient\n",
    "<br>\n",
    "*$β_{1}$* - estimated coefficient for x (no meaning)\n",
    "<br>\n",
    "*$β_{2}$* - estimated price coefficient"
   ]
  },
  {
   "cell_type": "code",
   "execution_count": 9,
   "id": "e063257b",
   "metadata": {},
   "outputs": [
    {
     "data": {
      "image/png": "[encoded data removed]",
      "text/plain": [
       "<Figure size 576x432 with 1 Axes>"
      ]
     },
     "metadata": {
      "needs_background": "light"
     },
     "output_type": "display_data"
    }
   ],
   "source": [
    "#performing the polynomial regression analysis\n",
    "X = sales_price['price'].values.reshape(-1, 1) #independent variable\n",
    "y = sales_price['sales'].values #dependent variable\n",
    "\n",
    "degree = 2 #quadratic polynomial regression\n",
    "\n",
    "#generating polynomial features from the independent variable\n",
    "poly_features = PolynomialFeatures(degree=degree)\n",
    "X_poly = poly_features.fit_transform(X)\n",
    "#fitting a polynomial regression model\n",
    "poly_reg = LinearRegression()\n",
    "poly_reg.fit(X_poly, y)\n",
    "#generating predicted values of the dependent variable\n",
    "y_pred = poly_reg.predict(X_poly)\n",
    "\n",
    "#visualizing the polynomial regression against the data\n",
    "plt.figure(figsize=(8, 6))\n",
    "plt.scatter(X, y, label='Data', alpha=0.5)\n",
    "plt.plot(X, y_pred, color='r', label='Polynomial Regression')\n",
    "plt.xlabel('Price, USD')\n",
    "plt.ylabel('Sales Count')\n",
    "plt.legend()\n",
    "plt.title('Polynomial Regression');"
   ]
  },
  {
   "cell_type": "code",
   "execution_count": 10,
   "id": "c8824e06",
   "metadata": {},
   "outputs": [],
   "source": [
    "#calculating polynomial regression coefficients, intercept, R-squared, standard errors, and p-value\n",
    "coefficients_pol_p = poly_reg.coef_\n",
    "intercept_pol_p = poly_reg.intercept_\n",
    "r_squared_pol_p = r2_score(y, y_pred)\n",
    "X_poly_with_constant = sm.add_constant(X_poly)\n",
    "model = sm.OLS(y, X_poly_with_constant).fit()\n",
    "p_value_pol_p = model.pvalues[-1]\n",
    "std_err_poly_p = model.bse"
   ]
  },
  {
   "cell_type": "code",
   "execution_count": 11,
   "id": "46426c15",
   "metadata": {},
   "outputs": [],
   "source": [
    "#comparing results from two regression models in the dataframe\n",
    "results_price = pd.DataFrame({\n",
    "    'Model': ['Linear Regression', 'Polynomial Regression'],\n",
    "    'Intercept': [intercept_lin_p, intercept_pol_p],\n",
    "    'Coefficient': [slope_lin_p, coefficients_pol_p[-1]],\n",
    "    'R-squared': [r_value_lin_p**2, r_squared_pol_p],\n",
    "    'Standard Error': [std_err_lin_p, std_err_poly_p[-1]],\n",
    "    'P-value': [p_value_lin_p, p_value_pol_p],\n",
    "})"
   ]
  },
  {
   "cell_type": "code",
   "execution_count": 12,
   "id": "ca846083",
   "metadata": {},
   "outputs": [
    {
     "data": {
      "text/html": [
       "<div>\n",
       "<style scoped>\n",
       "    .dataframe tbody tr th:only-of-type {\n",
       "        vertical-align: middle;\n",
       "    }\n",
       "\n",
       "    .dataframe tbody tr th {\n",
       "        vertical-align: top;\n",
       "    }\n",
       "\n",
       "    .dataframe thead th {\n",
       "        text-align: right;\n",
       "    }\n",
       "</style>\n",
       "<table border=\"1\" class=\"dataframe\">\n",
       "  <thead>\n",
       "    <tr style=\"text-align: right;\">\n",
       "      <th></th>\n",
       "      <th>Model</th>\n",
       "      <th>Intercept</th>\n",
       "      <th>Coefficient</th>\n",
       "      <th>R-squared</th>\n",
       "      <th>Standard Error</th>\n",
       "      <th>P-value</th>\n",
       "    </tr>\n",
       "  </thead>\n",
       "  <tbody>\n",
       "    <tr>\n",
       "      <th>0</th>\n",
       "      <td>Linear Regression</td>\n",
       "      <td>-5.545838</td>\n",
       "      <td>0.504063</td>\n",
       "      <td>0.010798</td>\n",
       "      <td>0.094580</td>\n",
       "      <td>1.069304e-07</td>\n",
       "    </tr>\n",
       "    <tr>\n",
       "      <th>1</th>\n",
       "      <td>Polynomial Regression</td>\n",
       "      <td>7.188447</td>\n",
       "      <td>0.010889</td>\n",
       "      <td>0.012283</td>\n",
       "      <td>0.005507</td>\n",
       "      <td>4.813690e-02</td>\n",
       "    </tr>\n",
       "  </tbody>\n",
       "</table>\n",
       "</div>"
      ],
      "text/plain": [
       "                   Model  Intercept  Coefficient  R-squared  Standard Error  \\\n",
       "0      Linear Regression  -5.545838     0.504063   0.010798        0.094580   \n",
       "1  Polynomial Regression   7.188447     0.010889   0.012283        0.005507   \n",
       "\n",
       "        P-value  \n",
       "0  1.069304e-07  \n",
       "1  4.813690e-02  "
      ]
     },
     "execution_count": 12,
     "metadata": {},
     "output_type": "execute_result"
    }
   ],
   "source": [
    "results_price"
   ]
  },
  {
   "cell_type": "markdown",
   "id": "50649d3a",
   "metadata": {},
   "source": [
    "According to this analysis, both linear and quadratic regressions produce statistically significant coefficients, meaning that there is a possible correlation between price and corresponding sales. However, the polynomial regression seems to possess better R-squared, although slightly, i.e., 1.23% of variation within the data is explained by this regression.\n",
    "\n",
    "If we chose the the quadratic regression model, the interpretation of the coefficient would look like this:\n",
    "<br>\n",
    "*Sales are expected to be higher by approximately 0.01 unit, on average, for every $1 increase in price.*"
   ]
  },
  {
   "cell_type": "markdown",
   "id": "7760da74",
   "metadata": {},
   "source": [
    "# (2) The effect of rating"
   ]
  },
  {
   "attachments": {
    "image.png": {
     "image/png": "[encoded data removed]"
    }
   },
   "cell_type": "markdown",
   "id": "a03c9674",
   "metadata": {},
   "source": [
    "![image.png](attachment:image.png)\n",
    "This formula represents linear regression where\n",
    "<br>\n",
    "*$y_{i}$* represents estimated sales for onservation *i*\n",
    "<br>\n",
    "*α* - estimated intercept coefficient\n",
    "<br>\n",
    "*β* - estimated rating coefficient\n",
    "<br>\n",
    "*$x_{i}$* - x value for observation *i*"
   ]
  },
  {
   "cell_type": "code",
   "execution_count": 13,
   "id": "bd9e7d6f",
   "metadata": {},
   "outputs": [
    {
     "data": {
      "text/plain": [
       "0        4.5\n",
       "1        4.4\n",
       "2        4.3\n",
       "3        4.4\n",
       "4        4.4\n",
       "        ... \n",
       "31607    4.4\n",
       "31608    4.3\n",
       "31609    4.4\n",
       "31610    4.4\n",
       "31611    4.4\n",
       "Name: rating, Length: 31612, dtype: float64"
      ]
     },
     "execution_count": 13,
     "metadata": {},
     "output_type": "execute_result"
    }
   ],
   "source": [
    "pd.to_numeric(amazon_df['rating'])"
   ]
  },
  {
   "cell_type": "code",
   "execution_count": 14,
   "id": "57f2d9a0",
   "metadata": {},
   "outputs": [
    {
     "data": {
      "text/html": [
       "<div>\n",
       "<style scoped>\n",
       "    .dataframe tbody tr th:only-of-type {\n",
       "        vertical-align: middle;\n",
       "    }\n",
       "\n",
       "    .dataframe tbody tr th {\n",
       "        vertical-align: top;\n",
       "    }\n",
       "\n",
       "    .dataframe thead th {\n",
       "        text-align: right;\n",
       "    }\n",
       "</style>\n",
       "<table border=\"1\" class=\"dataframe\">\n",
       "  <thead>\n",
       "    <tr style=\"text-align: right;\">\n",
       "      <th></th>\n",
       "      <th>product_name</th>\n",
       "      <th>rating</th>\n",
       "      <th>sales</th>\n",
       "    </tr>\n",
       "  </thead>\n",
       "  <tbody>\n",
       "    <tr>\n",
       "      <th>0</th>\n",
       "      <td>Calvin Klein Underwear Women's Carousel 3 Pack...</td>\n",
       "      <td>3.5</td>\n",
       "      <td>5</td>\n",
       "    </tr>\n",
       "    <tr>\n",
       "      <th>1</th>\n",
       "      <td>Calvin Klein Underwear Women's Carousel 3 Pack...</td>\n",
       "      <td>3.6</td>\n",
       "      <td>33</td>\n",
       "    </tr>\n",
       "    <tr>\n",
       "      <th>2</th>\n",
       "      <td>Calvin Klein Underwear Women's Carousel 3 Pack...</td>\n",
       "      <td>3.8</td>\n",
       "      <td>8</td>\n",
       "    </tr>\n",
       "    <tr>\n",
       "      <th>3</th>\n",
       "      <td>Calvin Klein Women's 3 Pack Carousel Thong Panty</td>\n",
       "      <td>4.7</td>\n",
       "      <td>118</td>\n",
       "    </tr>\n",
       "    <tr>\n",
       "      <th>4</th>\n",
       "      <td>Calvin Klein Women's 3 Pack Invisibles Hipster...</td>\n",
       "      <td>3.8</td>\n",
       "      <td>12</td>\n",
       "    </tr>\n",
       "    <tr>\n",
       "      <th>...</th>\n",
       "      <td>...</td>\n",
       "      <td>...</td>\n",
       "      <td>...</td>\n",
       "    </tr>\n",
       "    <tr>\n",
       "      <th>124</th>\n",
       "      <td>b.tempt'd by Wacoal Women's Ciao Bella Balcone...</td>\n",
       "      <td>4.2</td>\n",
       "      <td>79</td>\n",
       "    </tr>\n",
       "    <tr>\n",
       "      <th>125</th>\n",
       "      <td>b.tempt'd by Wacoal Women's Ciao Bella Balcone...</td>\n",
       "      <td>4.3</td>\n",
       "      <td>2305</td>\n",
       "    </tr>\n",
       "    <tr>\n",
       "      <th>126</th>\n",
       "      <td>b.tempt'd by Wacoal Women's Lace Kiss Bralette</td>\n",
       "      <td>4.0</td>\n",
       "      <td>211</td>\n",
       "    </tr>\n",
       "    <tr>\n",
       "      <th>127</th>\n",
       "      <td>b.tempt'd by Wacoal Women's Lace Kiss Thong Panty</td>\n",
       "      <td>4.4</td>\n",
       "      <td>242</td>\n",
       "    </tr>\n",
       "    <tr>\n",
       "      <th>128</th>\n",
       "      <td>b.tempt'd by Wacoal Womens Ciao Bella Tanga Panty</td>\n",
       "      <td>4.1</td>\n",
       "      <td>159</td>\n",
       "    </tr>\n",
       "  </tbody>\n",
       "</table>\n",
       "<p>129 rows × 3 columns</p>\n",
       "</div>"
      ],
      "text/plain": [
       "                                          product_name  rating  sales\n",
       "0    Calvin Klein Underwear Women's Carousel 3 Pack...     3.5      5\n",
       "1    Calvin Klein Underwear Women's Carousel 3 Pack...     3.6     33\n",
       "2    Calvin Klein Underwear Women's Carousel 3 Pack...     3.8      8\n",
       "3     Calvin Klein Women's 3 Pack Carousel Thong Panty     4.7    118\n",
       "4    Calvin Klein Women's 3 Pack Invisibles Hipster...     3.8     12\n",
       "..                                                 ...     ...    ...\n",
       "124  b.tempt'd by Wacoal Women's Ciao Bella Balcone...     4.2     79\n",
       "125  b.tempt'd by Wacoal Women's Ciao Bella Balcone...     4.3   2305\n",
       "126     b.tempt'd by Wacoal Women's Lace Kiss Bralette     4.0    211\n",
       "127  b.tempt'd by Wacoal Women's Lace Kiss Thong Panty     4.4    242\n",
       "128  b.tempt'd by Wacoal Womens Ciao Bella Tanga Panty     4.1    159\n",
       "\n",
       "[129 rows x 3 columns]"
      ]
     },
     "execution_count": 14,
     "metadata": {},
     "output_type": "execute_result"
    }
   ],
   "source": [
    "#creating a separate dataframe containing product name, its rating, and its sales\n",
    "sales_rating = amazon_df.groupby(['product_name', 'rating']).size().reset_index(name='sales')\n",
    "sales_rating"
   ]
  },
  {
   "cell_type": "code",
   "execution_count": 15,
   "id": "cc324de1",
   "metadata": {},
   "outputs": [
    {
     "data": {
      "image/png": "[encoded data removed]",
      "text/plain": [
       "<Figure size 576x432 with 1 Axes>"
      ]
     },
     "metadata": {
      "needs_background": "light"
     },
     "output_type": "display_data"
    }
   ],
   "source": [
    "#visualizing data for the preliminary analysis using the scatter plot\n",
    "sales_rating['rating'] = sales_rating['rating'].astype(float)\n",
    "unique_rating = sales_rating['rating'].unique()\n",
    "tick_positions = np.linspace(min(unique_rating), max(unique_rating), 10)\n",
    "plt.figure(figsize=(8, 6))\n",
    "plt.scatter(sales_rating['rating'],sales_rating['sales'])\n",
    "plt.xticks(tick_positions)\n",
    "plt.xlabel('Rating')\n",
    "plt.ylabel('Sales')\n",
    "plt.title('Sales Count vs. Rating')\n",
    "plt.grid(True);"
   ]
  },
  {
   "cell_type": "code",
   "execution_count": 16,
   "id": "99f9531a",
   "metadata": {},
   "outputs": [],
   "source": [
    "#performing the linear regression analysis\n",
    "slope_lin_r, intercept_lin_r, r_value_lin_r, p_value_lin_r, std_err_lin_r = stats.linregress(sales_rating['rating'], sales_rating['sales'])"
   ]
  },
  {
   "cell_type": "code",
   "execution_count": 17,
   "id": "13ac3a34",
   "metadata": {
    "scrolled": true
   },
   "outputs": [
    {
     "data": {
      "image/png": "[encoded data removed]",
      "text/plain": [
       "<Figure size 576x432 with 1 Axes>"
      ]
     },
     "metadata": {
      "needs_background": "light"
     },
     "output_type": "display_data"
    }
   ],
   "source": [
    "#plotting the linear fit against the data\n",
    "plt.figure(figsize=(8, 6))\n",
    "plt.scatter(sales_rating['rating'], sales_rating['sales'], label='Data')\n",
    "plt.plot(sales_rating['rating'], slope_lin_r*sales_rating['rating']+intercept_lin_r, color='red', label='Linear Regression')\n",
    "plt.xticks(tick_positions)\n",
    "plt.xlabel('Rating')\n",
    "plt.ylabel('Sales')\n",
    "plt.legend()\n",
    "plt.title('Sales Count vs. Rating with Linear Fit')\n",
    "plt.grid(True);"
   ]
  },
  {
   "attachments": {
    "image.png": {
     "image/png": "[encoded data removed]"
    }
   },
   "cell_type": "markdown",
   "id": "fb7861f5",
   "metadata": {},
   "source": [
    "![image.png](attachment:image.png)\n",
    "This formula represents quadratic polynomial regression where\n",
    "<br>\n",
    "*$y^{E}$* stands for estimated sales\n",
    "<br>\n",
    "*α* - estimated intercept coefficient\n",
    "<br>\n",
    "*$β_{1}$* - estimated coefficient for x (no meaning)\n",
    "<br>\n",
    "*$β_{2}$* - estimated rating coefficient"
   ]
  },
  {
   "cell_type": "code",
   "execution_count": 18,
   "id": "672423fc",
   "metadata": {},
   "outputs": [
    {
     "data": {
      "image/png": "[encoded data removed]",
      "text/plain": [
       "<Figure size 576x432 with 1 Axes>"
      ]
     },
     "metadata": {
      "needs_background": "light"
     },
     "output_type": "display_data"
    }
   ],
   "source": [
    "#performing the polynomial regression analysis\n",
    "X = sales_rating['rating'].values.reshape(-1, 1) #independent variable\n",
    "y = sales_rating['sales'].values #dependent variable\n",
    "\n",
    "degree = 2 #quadratic polynomial regression\n",
    "\n",
    "#generating polynomial features from the independent variable\n",
    "poly_features = PolynomialFeatures(degree=degree)\n",
    "X_poly = poly_features.fit_transform(X)\n",
    "#fitting a polynomial regression model\n",
    "poly_reg = LinearRegression()\n",
    "poly_reg.fit(X_poly, y)\n",
    "#generating predicted values of the dependent variable\n",
    "y_pred = poly_reg.predict(X_poly)\n",
    "\n",
    "#visualizing the polynomial regression against the data\n",
    "plt.figure(figsize=(8, 6))\n",
    "plt.scatter(X, y, label='Data')\n",
    "plt.plot(X, y_pred, color='r', label='Polynomial Regression')\n",
    "plt.xlabel('Rating')\n",
    "plt.ylabel('Sales')\n",
    "plt.legend()\n",
    "plt.title('Polynomial Regression')\n",
    "plt.grid(True);"
   ]
  },
  {
   "cell_type": "code",
   "execution_count": 19,
   "id": "dca62857",
   "metadata": {},
   "outputs": [],
   "source": [
    "#calculating polynomial regression coefficients, intercept, R-squared, standard errors, and p-value\n",
    "coefficients_pol_r = poly_reg.coef_\n",
    "intercept_pol_r = poly_reg.intercept_\n",
    "r_squared_pol_r = r2_score(y, y_pred)\n",
    "X_poly_with_constant = sm.add_constant(X_poly)\n",
    "model = sm.OLS(y, X_poly_with_constant).fit()\n",
    "p_value_pol_r = model.pvalues[-1]\n",
    "std_err_poly_r = model.bse"
   ]
  },
  {
   "cell_type": "code",
   "execution_count": 20,
   "id": "d667128f",
   "metadata": {},
   "outputs": [],
   "source": [
    "#comparing results from two regression models in the dataframe\n",
    "results_rating = pd.DataFrame({\n",
    "    'Model': ['Linear Regression', 'Polynomial Regression'],\n",
    "    'Intercept': [intercept_lin_r, intercept_pol_r],\n",
    "    'Coefficient': [slope_lin_r, coefficients_pol_r[-1]],\n",
    "    'R-squared': [r_value_lin_r**2, r_squared_pol_r],\n",
    "    'Standard Error': [std_err_lin_r, std_err_poly_r[-1]],\n",
    "    'P-value': [p_value_lin_r, p_value_pol_r],\n",
    "})"
   ]
  },
  {
   "cell_type": "code",
   "execution_count": 21,
   "id": "79c0f2e3",
   "metadata": {},
   "outputs": [
    {
     "data": {
      "text/html": [
       "<div>\n",
       "<style scoped>\n",
       "    .dataframe tbody tr th:only-of-type {\n",
       "        vertical-align: middle;\n",
       "    }\n",
       "\n",
       "    .dataframe tbody tr th {\n",
       "        vertical-align: top;\n",
       "    }\n",
       "\n",
       "    .dataframe thead th {\n",
       "        text-align: right;\n",
       "    }\n",
       "</style>\n",
       "<table border=\"1\" class=\"dataframe\">\n",
       "  <thead>\n",
       "    <tr style=\"text-align: right;\">\n",
       "      <th></th>\n",
       "      <th>Model</th>\n",
       "      <th>Intercept</th>\n",
       "      <th>Coefficient</th>\n",
       "      <th>R-squared</th>\n",
       "      <th>Standard Error</th>\n",
       "      <th>P-value</th>\n",
       "    </tr>\n",
       "  </thead>\n",
       "  <tbody>\n",
       "    <tr>\n",
       "      <th>0</th>\n",
       "      <td>Linear Regression</td>\n",
       "      <td>-258.421391</td>\n",
       "      <td>120.207957</td>\n",
       "      <td>0.011162</td>\n",
       "      <td>100.396017</td>\n",
       "      <td>0.233405</td>\n",
       "    </tr>\n",
       "    <tr>\n",
       "      <th>1</th>\n",
       "      <td>Polynomial Regression</td>\n",
       "      <td>-4292.017486</td>\n",
       "      <td>-251.342208</td>\n",
       "      <td>0.032461</td>\n",
       "      <td>150.917293</td>\n",
       "      <td>0.098311</td>\n",
       "    </tr>\n",
       "  </tbody>\n",
       "</table>\n",
       "</div>"
      ],
      "text/plain": [
       "                   Model    Intercept  Coefficient  R-squared  Standard Error  \\\n",
       "0      Linear Regression  -258.421391   120.207957   0.011162      100.396017   \n",
       "1  Polynomial Regression -4292.017486  -251.342208   0.032461      150.917293   \n",
       "\n",
       "    P-value  \n",
       "0  0.233405  \n",
       "1  0.098311  "
      ]
     },
     "execution_count": 21,
     "metadata": {},
     "output_type": "execute_result"
    }
   ],
   "source": [
    "results_rating"
   ]
  },
  {
   "cell_type": "markdown",
   "id": "ab26af9b",
   "metadata": {},
   "source": [
    "According to this analysis, both linear and quadratic regressions produce statistically *insignificant* coefficients (at 0.05 significance level), meaning that there is no proven correlation between rating and corresponding sales."
   ]
  },
  {
   "cell_type": "markdown",
   "id": "0f8729d5",
   "metadata": {},
   "source": [
    "# (3) The most successful brands"
   ]
  },
  {
   "cell_type": "code",
   "execution_count": 22,
   "id": "b1dd86ba",
   "metadata": {},
   "outputs": [
    {
     "data": {
      "text/html": [
       "<div>\n",
       "<style scoped>\n",
       "    .dataframe tbody tr th:only-of-type {\n",
       "        vertical-align: middle;\n",
       "    }\n",
       "\n",
       "    .dataframe tbody tr th {\n",
       "        vertical-align: top;\n",
       "    }\n",
       "\n",
       "    .dataframe thead th {\n",
       "        text-align: right;\n",
       "    }\n",
       "</style>\n",
       "<table border=\"1\" class=\"dataframe\">\n",
       "  <thead>\n",
       "    <tr style=\"text-align: right;\">\n",
       "      <th></th>\n",
       "      <th>brand_name</th>\n",
       "      <th>sales</th>\n",
       "    </tr>\n",
       "  </thead>\n",
       "  <tbody>\n",
       "    <tr>\n",
       "      <th>0</th>\n",
       "      <td>Calvin-Klein</td>\n",
       "      <td>7372</td>\n",
       "    </tr>\n",
       "    <tr>\n",
       "      <th>1</th>\n",
       "      <td>Compression-Comfort</td>\n",
       "      <td>1</td>\n",
       "    </tr>\n",
       "    <tr>\n",
       "      <th>2</th>\n",
       "      <td>Creative-Motion</td>\n",
       "      <td>1</td>\n",
       "    </tr>\n",
       "    <tr>\n",
       "      <th>3</th>\n",
       "      <td>Fila</td>\n",
       "      <td>1</td>\n",
       "    </tr>\n",
       "    <tr>\n",
       "      <th>4</th>\n",
       "      <td>Hanky-Panky</td>\n",
       "      <td>582</td>\n",
       "    </tr>\n",
       "    <tr>\n",
       "      <th>5</th>\n",
       "      <td>Lucky-Brand</td>\n",
       "      <td>1</td>\n",
       "    </tr>\n",
       "    <tr>\n",
       "      <th>6</th>\n",
       "      <td>Nintendo</td>\n",
       "      <td>1</td>\n",
       "    </tr>\n",
       "    <tr>\n",
       "      <th>7</th>\n",
       "      <td>Sexy-Hair</td>\n",
       "      <td>1</td>\n",
       "    </tr>\n",
       "    <tr>\n",
       "      <th>8</th>\n",
       "      <td>Victorias-Secret</td>\n",
       "      <td>67</td>\n",
       "    </tr>\n",
       "    <tr>\n",
       "      <th>9</th>\n",
       "      <td>Wacoal</td>\n",
       "      <td>20088</td>\n",
       "    </tr>\n",
       "    <tr>\n",
       "      <th>10</th>\n",
       "      <td>b-temptd</td>\n",
       "      <td>3490</td>\n",
       "    </tr>\n",
       "  </tbody>\n",
       "</table>\n",
       "</div>"
      ],
      "text/plain": [
       "             brand_name  sales\n",
       "0          Calvin-Klein   7372\n",
       "1   Compression-Comfort      1\n",
       "2       Creative-Motion      1\n",
       "3                  Fila      1\n",
       "4           Hanky-Panky    582\n",
       "5           Lucky-Brand      1\n",
       "6              Nintendo      1\n",
       "7             Sexy-Hair      1\n",
       "8      Victorias-Secret     67\n",
       "9                Wacoal  20088\n",
       "10             b-temptd   3490"
      ]
     },
     "execution_count": 22,
     "metadata": {},
     "output_type": "execute_result"
    }
   ],
   "source": [
    "#creating a separate dataframe containing brand name and its sales\n",
    "sales_brands = amazon_df.groupby(['brand_name']).size().reset_index(name='sales')\n",
    "sales_brands = sales_brands.drop(sales_brands[sales_brands.index>10].index)\n",
    "sales_brands"
   ]
  },
  {
   "cell_type": "code",
   "execution_count": 23,
   "id": "cdd4ddb3",
   "metadata": {},
   "outputs": [
    {
     "data": {
      "image/png": "[encoded data removed]",
      "text/plain": [
       "<Figure size 576x432 with 1 Axes>"
      ]
     },
     "metadata": {
      "needs_background": "light"
     },
     "output_type": "display_data"
    }
   ],
   "source": [
    "#visualizing the brand ranking in the bar chart\n",
    "plt.figure(figsize=(8, 6))\n",
    "plt.bar(sales_brands['brand_name'], sales_brands['sales'], alpha=0.7)\n",
    "plt.title('Bar chart of brand sales')\n",
    "plt.ylabel('Brand Sales')\n",
    "plt.xticks(rotation=45)\n",
    "plt.tight_layout();"
   ]
  },
  {
   "cell_type": "markdown",
   "id": "131abf68",
   "metadata": {},
   "source": [
    "It appears as the most successful brand on Amazon.com in terms of sales is Wacoal, accounting for more than 20,000 sales for the indicated period. The second and third most successful brands are Calvin-Klein and b-temptd with 7,372 and 3,490 sales, respectively, on the website between June and July."
   ]
  },
  {
   "cell_type": "markdown",
   "id": "4a47c438",
   "metadata": {},
   "source": [
    "# (4) The most successful colors"
   ]
  },
  {
   "cell_type": "code",
   "execution_count": 24,
   "id": "c496503a",
   "metadata": {},
   "outputs": [
    {
     "data": {
      "text/html": [
       "<div>\n",
       "<style scoped>\n",
       "    .dataframe tbody tr th:only-of-type {\n",
       "        vertical-align: middle;\n",
       "    }\n",
       "\n",
       "    .dataframe tbody tr th {\n",
       "        vertical-align: top;\n",
       "    }\n",
       "\n",
       "    .dataframe thead th {\n",
       "        text-align: right;\n",
       "    }\n",
       "</style>\n",
       "<table border=\"1\" class=\"dataframe\">\n",
       "  <thead>\n",
       "    <tr style=\"text-align: right;\">\n",
       "      <th></th>\n",
       "      <th>color</th>\n",
       "      <th>sales</th>\n",
       "    </tr>\n",
       "  </thead>\n",
       "  <tbody>\n",
       "    <tr>\n",
       "      <th>1</th>\n",
       "      <td>Almond Blossom</td>\n",
       "      <td>442</td>\n",
       "    </tr>\n",
       "    <tr>\n",
       "      <th>3</th>\n",
       "      <td>Au Natural</td>\n",
       "      <td>190</td>\n",
       "    </tr>\n",
       "    <tr>\n",
       "      <th>5</th>\n",
       "      <td>Baja Blue</td>\n",
       "      <td>201</td>\n",
       "    </tr>\n",
       "    <tr>\n",
       "      <th>6</th>\n",
       "      <td>Bare</td>\n",
       "      <td>954</td>\n",
       "    </tr>\n",
       "    <tr>\n",
       "      <th>8</th>\n",
       "      <td>Black</td>\n",
       "      <td>5664</td>\n",
       "    </tr>\n",
       "    <tr>\n",
       "      <th>31</th>\n",
       "      <td>Blithe</td>\n",
       "      <td>140</td>\n",
       "    </tr>\n",
       "    <tr>\n",
       "      <th>34</th>\n",
       "      <td>Blue Depths/Sharp Green</td>\n",
       "      <td>134</td>\n",
       "    </tr>\n",
       "    <tr>\n",
       "      <th>41</th>\n",
       "      <td>Blue Turquoise</td>\n",
       "      <td>247</td>\n",
       "    </tr>\n",
       "    <tr>\n",
       "      <th>44</th>\n",
       "      <td>Bridal White</td>\n",
       "      <td>205</td>\n",
       "    </tr>\n",
       "    <tr>\n",
       "      <th>45</th>\n",
       "      <td>Bronzed</td>\n",
       "      <td>167</td>\n",
       "    </tr>\n",
       "    <tr>\n",
       "      <th>46</th>\n",
       "      <td>Buff</td>\n",
       "      <td>167</td>\n",
       "    </tr>\n",
       "    <tr>\n",
       "      <th>48</th>\n",
       "      <td>Camellia Rose</td>\n",
       "      <td>201</td>\n",
       "    </tr>\n",
       "    <tr>\n",
       "      <th>49</th>\n",
       "      <td>Campanula</td>\n",
       "      <td>275</td>\n",
       "    </tr>\n",
       "    <tr>\n",
       "      <th>50</th>\n",
       "      <td>Cappuccino</td>\n",
       "      <td>1168</td>\n",
       "    </tr>\n",
       "    <tr>\n",
       "      <th>57</th>\n",
       "      <td>Cashmere Rose</td>\n",
       "      <td>101</td>\n",
       "    </tr>\n",
       "    <tr>\n",
       "      <th>58</th>\n",
       "      <td>Castlerock/Black</td>\n",
       "      <td>217</td>\n",
       "    </tr>\n",
       "    <tr>\n",
       "      <th>59</th>\n",
       "      <td>Cayenne</td>\n",
       "      <td>135</td>\n",
       "    </tr>\n",
       "    <tr>\n",
       "      <th>70</th>\n",
       "      <td>Cinnamon</td>\n",
       "      <td>140</td>\n",
       "    </tr>\n",
       "    <tr>\n",
       "      <th>76</th>\n",
       "      <td>Conch Shell</td>\n",
       "      <td>104</td>\n",
       "    </tr>\n",
       "    <tr>\n",
       "      <th>85</th>\n",
       "      <td>Dazzling Blue</td>\n",
       "      <td>101</td>\n",
       "    </tr>\n",
       "    <tr>\n",
       "      <th>87</th>\n",
       "      <td>Deep Taupe</td>\n",
       "      <td>278</td>\n",
       "    </tr>\n",
       "    <tr>\n",
       "      <th>103</th>\n",
       "      <td>French Nude</td>\n",
       "      <td>216</td>\n",
       "    </tr>\n",
       "    <tr>\n",
       "      <th>104</th>\n",
       "      <td>Fresh Taupe</td>\n",
       "      <td>154</td>\n",
       "    </tr>\n",
       "    <tr>\n",
       "      <th>106</th>\n",
       "      <td>Frost Gray/Teaberry</td>\n",
       "      <td>110</td>\n",
       "    </tr>\n",
       "    <tr>\n",
       "      <th>111</th>\n",
       "      <td>Gardenia</td>\n",
       "      <td>300</td>\n",
       "    </tr>\n",
       "    <tr>\n",
       "      <th>120</th>\n",
       "      <td>Grey Heather</td>\n",
       "      <td>239</td>\n",
       "    </tr>\n",
       "    <tr>\n",
       "      <th>123</th>\n",
       "      <td>High Rise</td>\n",
       "      <td>132</td>\n",
       "    </tr>\n",
       "    <tr>\n",
       "      <th>130</th>\n",
       "      <td>Ivory</td>\n",
       "      <td>1778</td>\n",
       "    </tr>\n",
       "    <tr>\n",
       "      <th>135</th>\n",
       "      <td>Layered Leopard Print</td>\n",
       "      <td>135</td>\n",
       "    </tr>\n",
       "    <tr>\n",
       "      <th>139</th>\n",
       "      <td>Liberty/Gold</td>\n",
       "      <td>137</td>\n",
       "    </tr>\n",
       "    <tr>\n",
       "      <th>152</th>\n",
       "      <td>Minimal Paisley</td>\n",
       "      <td>130</td>\n",
       "    </tr>\n",
       "    <tr>\n",
       "      <th>156</th>\n",
       "      <td>Natural Nude</td>\n",
       "      <td>200</td>\n",
       "    </tr>\n",
       "    <tr>\n",
       "      <th>157</th>\n",
       "      <td>Naturally Nude</td>\n",
       "      <td>2825</td>\n",
       "    </tr>\n",
       "    <tr>\n",
       "      <th>162</th>\n",
       "      <td>Night</td>\n",
       "      <td>384</td>\n",
       "    </tr>\n",
       "    <tr>\n",
       "      <th>165</th>\n",
       "      <td>Nude/Ivory</td>\n",
       "      <td>138</td>\n",
       "    </tr>\n",
       "    <tr>\n",
       "      <th>167</th>\n",
       "      <td>Nympth's Thigh</td>\n",
       "      <td>172</td>\n",
       "    </tr>\n",
       "    <tr>\n",
       "      <th>175</th>\n",
       "      <td>Peacoat</td>\n",
       "      <td>221</td>\n",
       "    </tr>\n",
       "    <tr>\n",
       "      <th>179</th>\n",
       "      <td>Pecan</td>\n",
       "      <td>369</td>\n",
       "    </tr>\n",
       "    <tr>\n",
       "      <th>185</th>\n",
       "      <td>Platinum/Fuchsia</td>\n",
       "      <td>244</td>\n",
       "    </tr>\n",
       "    <tr>\n",
       "      <th>191</th>\n",
       "      <td>Poseidon/Caribbean Sea</td>\n",
       "      <td>166</td>\n",
       "    </tr>\n",
       "    <tr>\n",
       "      <th>196</th>\n",
       "      <td>Purple Opulence/Yellow</td>\n",
       "      <td>113</td>\n",
       "    </tr>\n",
       "    <tr>\n",
       "      <th>200</th>\n",
       "      <td>Raspberry</td>\n",
       "      <td>289</td>\n",
       "    </tr>\n",
       "    <tr>\n",
       "      <th>208</th>\n",
       "      <td>Royal Blue</td>\n",
       "      <td>122</td>\n",
       "    </tr>\n",
       "    <tr>\n",
       "      <th>214</th>\n",
       "      <td>Sand</td>\n",
       "      <td>300</td>\n",
       "    </tr>\n",
       "    <tr>\n",
       "      <th>220</th>\n",
       "      <td>Speakeasy</td>\n",
       "      <td>211</td>\n",
       "    </tr>\n",
       "    <tr>\n",
       "      <th>232</th>\n",
       "      <td>Teaberry/Gray</td>\n",
       "      <td>269</td>\n",
       "    </tr>\n",
       "    <tr>\n",
       "      <th>234</th>\n",
       "      <td>Toast</td>\n",
       "      <td>1098</td>\n",
       "    </tr>\n",
       "    <tr>\n",
       "      <th>243</th>\n",
       "      <td>Vanilla Ice</td>\n",
       "      <td>184</td>\n",
       "    </tr>\n",
       "    <tr>\n",
       "      <th>246</th>\n",
       "      <td>Violet Tulip</td>\n",
       "      <td>331</td>\n",
       "    </tr>\n",
       "    <tr>\n",
       "      <th>250</th>\n",
       "      <td>White</td>\n",
       "      <td>1480</td>\n",
       "    </tr>\n",
       "    <tr>\n",
       "      <th>251</th>\n",
       "      <td>White Jade</td>\n",
       "      <td>131</td>\n",
       "    </tr>\n",
       "    <tr>\n",
       "      <th>255</th>\n",
       "      <td>Wild Aster</td>\n",
       "      <td>261</td>\n",
       "    </tr>\n",
       "    <tr>\n",
       "      <th>257</th>\n",
       "      <td>Wine Berry</td>\n",
       "      <td>261</td>\n",
       "    </tr>\n",
       "  </tbody>\n",
       "</table>\n",
       "</div>"
      ],
      "text/plain": [
       "                       color  sales\n",
       "1             Almond Blossom    442\n",
       "3                 Au Natural    190\n",
       "5                  Baja Blue    201\n",
       "6                       Bare    954\n",
       "8                      Black   5664\n",
       "31                    Blithe    140\n",
       "34   Blue Depths/Sharp Green    134\n",
       "41            Blue Turquoise    247\n",
       "44              Bridal White    205\n",
       "45                   Bronzed    167\n",
       "46                      Buff    167\n",
       "48             Camellia Rose    201\n",
       "49                 Campanula    275\n",
       "50                Cappuccino   1168\n",
       "57             Cashmere Rose    101\n",
       "58          Castlerock/Black    217\n",
       "59                   Cayenne    135\n",
       "70                  Cinnamon    140\n",
       "76               Conch Shell    104\n",
       "85             Dazzling Blue    101\n",
       "87                Deep Taupe    278\n",
       "103              French Nude    216\n",
       "104              Fresh Taupe    154\n",
       "106      Frost Gray/Teaberry    110\n",
       "111                 Gardenia    300\n",
       "120             Grey Heather    239\n",
       "123                High Rise    132\n",
       "130                    Ivory   1778\n",
       "135    Layered Leopard Print    135\n",
       "139             Liberty/Gold    137\n",
       "152          Minimal Paisley    130\n",
       "156             Natural Nude    200\n",
       "157           Naturally Nude   2825\n",
       "162                    Night    384\n",
       "165               Nude/Ivory    138\n",
       "167           Nympth's Thigh    172\n",
       "175                  Peacoat    221\n",
       "179                    Pecan    369\n",
       "185         Platinum/Fuchsia    244\n",
       "191   Poseidon/Caribbean Sea    166\n",
       "196   Purple Opulence/Yellow    113\n",
       "200                Raspberry    289\n",
       "208               Royal Blue    122\n",
       "214                     Sand    300\n",
       "220                Speakeasy    211\n",
       "232            Teaberry/Gray    269\n",
       "234                    Toast   1098\n",
       "243              Vanilla Ice    184\n",
       "246             Violet Tulip    331\n",
       "250                    White   1480\n",
       "251               White Jade    131\n",
       "255               Wild Aster    261\n",
       "257               Wine Berry    261"
      ]
     },
     "execution_count": 24,
     "metadata": {},
     "output_type": "execute_result"
    }
   ],
   "source": [
    "#creating a separate dataframe containing color name and its sales\n",
    "sales_color = amazon_df.groupby(['color']).size().reset_index(name='sales')\n",
    "sales_color = sales_color.drop(sales_color[sales_color.sales<100].index)\n",
    "sales_color = sales_color.drop(sales_color[sales_color['color'].isin(('Small', 'Medium', 'Large'))].index)\n",
    "sales_color"
   ]
  },
  {
   "cell_type": "code",
   "execution_count": 25,
   "id": "a205a78f",
   "metadata": {},
   "outputs": [
    {
     "name": "stderr",
     "output_type": "stream",
     "text": [
      "C:\\Users\\Akhmetova_Shynar\\AppData\\Local\\Temp\\ipykernel_7516\\376125975.py:8: UserWarning: FixedFormatter should only be used together with FixedLocator\n",
      "  plt.gca().set_xticklabels(xtick_labels)\n"
     ]
    },
    {
     "data": {
      "image/png": "[encoded data removed]",
      "text/plain": [
       "<Figure size 576x432 with 1 Axes>"
      ]
     },
     "metadata": {
      "needs_background": "light"
     },
     "output_type": "display_data"
    }
   ],
   "source": [
    "#visualizing the color ranking in the bar chart\n",
    "plt.figure(figsize=(8, 6))\n",
    "plt.bar(sales_color['color'], sales_color['sales'], alpha=0.7)\n",
    "plt.title('Bar chart of color sales')\n",
    "plt.ylabel('Sales')\n",
    "plt.xticks(rotation=45)\n",
    "xtick_labels = [color if meets_condition else '' for color, meets_condition in zip(sales_color['color'], (sales_color['sales']>500))]\n",
    "plt.gca().set_xticklabels(xtick_labels)\n",
    "plt.tight_layout();"
   ]
  },
  {
   "cell_type": "markdown",
   "id": "eff4cb75",
   "metadata": {},
   "source": [
    "It appears as the most successful color on Amazon.com in terms of sales is Black, accounting for more than 5,500 sales for the indicated period. The second and third most successful colors are Naturally Nude and Ivory with 2,825 and 1,778 sales, respectively, on the website between June and July."
   ]
  },
  {
   "cell_type": "markdown",
   "id": "c09bbb53",
   "metadata": {},
   "source": [
    "# (5) The most successful retail platforms"
   ]
  },
  {
   "cell_type": "code",
   "execution_count": 26,
   "id": "c9d2790f",
   "metadata": {},
   "outputs": [
    {
     "name": "stderr",
     "output_type": "stream",
     "text": [
      "C:\\Users\\Akhmetova_Shynar\\AppData\\Local\\Temp\\ipykernel_7516\\699386765.py:5: FutureWarning: The frame.append method is deprecated and will be removed from pandas in a future version. Use pandas.concat instead.\n",
      "  sales_platforms = sales_platforms.append({'Retail platform': 'ae_com', 'Sales': len(ae_df)}, ignore_index=True)\n"
     ]
    }
   ],
   "source": [
    "#creating a separate dataframe containing retail platform and its sales\n",
    "sales_platforms = pd.DataFrame(columns=['Retail platform', 'Sales'])\n",
    "#appending sales data for ae.com to the sales_platforms dataframe\n",
    "ae_df = pd.read_csv('ae_com.csv')\n",
    "sales_platforms = sales_platforms.append({'Retail platform': 'ae_com', 'Sales': len(ae_df)}, ignore_index=True)"
   ]
  },
  {
   "cell_type": "code",
   "execution_count": 27,
   "id": "8f29f72a",
   "metadata": {},
   "outputs": [
    {
     "name": "stderr",
     "output_type": "stream",
     "text": [
      "C:\\Users\\Akhmetova_Shynar\\AppData\\Local\\Temp\\ipykernel_7516\\1516354998.py:3: FutureWarning: The frame.append method is deprecated and will be removed from pandas in a future version. Use pandas.concat instead.\n",
      "  sales_platforms = sales_platforms.append({'Retail platform': 'btemptd_com', 'Sales': len(btemptd_df)}, ignore_index=True)\n"
     ]
    }
   ],
   "source": [
    "#appending sales data for btemptd.com to the sales_platforms dataframe\n",
    "btemptd_df = pd.read_csv('btemptd_com.csv')\n",
    "sales_platforms = sales_platforms.append({'Retail platform': 'btemptd_com', 'Sales': len(btemptd_df)}, ignore_index=True)"
   ]
  },
  {
   "cell_type": "code",
   "execution_count": 28,
   "id": "e3efb031",
   "metadata": {},
   "outputs": [
    {
     "name": "stderr",
     "output_type": "stream",
     "text": [
      "C:\\Users\\Akhmetova_Shynar\\AppData\\Local\\Temp\\ipykernel_7516\\2032466755.py:3: FutureWarning: The frame.append method is deprecated and will be removed from pandas in a future version. Use pandas.concat instead.\n",
      "  sales_platforms = sales_platforms.append({'Retail platform': 'calvinklein_com', 'Sales': len(calvinklein_df)}, ignore_index=True)\n"
     ]
    }
   ],
   "source": [
    "#appending sales data for calvinklein.com to the sales_platforms dataframe\n",
    "calvinklein_df = pd.read_csv('calvinklein_com.csv')\n",
    "sales_platforms = sales_platforms.append({'Retail platform': 'calvinklein_com', 'Sales': len(calvinklein_df)}, ignore_index=True)"
   ]
  },
  {
   "cell_type": "code",
   "execution_count": 29,
   "id": "94711928",
   "metadata": {},
   "outputs": [
    {
     "name": "stderr",
     "output_type": "stream",
     "text": [
      "C:\\Users\\Akhmetova_Shynar\\AppData\\Local\\Temp\\ipykernel_7516\\3879176417.py:3: FutureWarning: The frame.append method is deprecated and will be removed from pandas in a future version. Use pandas.concat instead.\n",
      "  sales_platforms = sales_platforms.append({'Retail platform': 'hankypanky_com', 'Sales': len(hankypanky_df)}, ignore_index=True)\n"
     ]
    }
   ],
   "source": [
    "#appending sales data for hankypanky.com to the sales_platforms dataframe\n",
    "hankypanky_df = pd.read_csv('hankypanky_com.csv')\n",
    "sales_platforms = sales_platforms.append({'Retail platform': 'hankypanky_com', 'Sales': len(hankypanky_df)}, ignore_index=True)"
   ]
  },
  {
   "cell_type": "code",
   "execution_count": 30,
   "id": "a5a97120",
   "metadata": {},
   "outputs": [
    {
     "name": "stderr",
     "output_type": "stream",
     "text": [
      "C:\\Users\\Akhmetova_Shynar\\AppData\\Local\\Temp\\ipykernel_7516\\62161276.py:3: FutureWarning: The frame.append method is deprecated and will be removed from pandas in a future version. Use pandas.concat instead.\n",
      "  sales_platforms = sales_platforms.append({'Retail platform': 'macys_com', 'Sales': len(macys_df)}, ignore_index=True)\n"
     ]
    }
   ],
   "source": [
    "#appending sales data for macys.com to the sales_platforms dataframe\n",
    "macys_df = pd.read_csv('macys_com.csv')\n",
    "sales_platforms = sales_platforms.append({'Retail platform': 'macys_com', 'Sales': len(macys_df)}, ignore_index=True)"
   ]
  },
  {
   "cell_type": "code",
   "execution_count": 31,
   "id": "e49a3de3",
   "metadata": {},
   "outputs": [
    {
     "name": "stderr",
     "output_type": "stream",
     "text": [
      "C:\\Users\\Akhmetova_Shynar\\AppData\\Local\\Temp\\ipykernel_7516\\810109059.py:3: FutureWarning: The frame.append method is deprecated and will be removed from pandas in a future version. Use pandas.concat instead.\n",
      "  sales_platforms = sales_platforms.append({'Retail platform': 'shop_nordstrom_com', 'Sales': len(nordstrom_df)}, ignore_index=True)\n"
     ]
    }
   ],
   "source": [
    "#appending sales data for shop-nordstorm.com to the sales_platforms dataframe\n",
    "nordstrom_df = pd.read_csv('shop_nordstrom_com.csv')\n",
    "sales_platforms = sales_platforms.append({'Retail platform': 'shop_nordstrom_com', 'Sales': len(nordstrom_df)}, ignore_index=True)"
   ]
  },
  {
   "cell_type": "code",
   "execution_count": 32,
   "id": "6df6a2ea",
   "metadata": {},
   "outputs": [
    {
     "name": "stderr",
     "output_type": "stream",
     "text": [
      "C:\\Users\\Akhmetova_Shynar\\AppData\\Local\\Temp\\ipykernel_7516\\73689784.py:3: FutureWarning: The frame.append method is deprecated and will be removed from pandas in a future version. Use pandas.concat instead.\n",
      "  sales_platforms = sales_platforms.append({'Retail platform': 'us_topshop_com', 'Sales': len(ustopshop_df)}, ignore_index=True)\n"
     ]
    }
   ],
   "source": [
    "#appending sales data for us-topshop.com to the sales_platforms dataframe\n",
    "ustopshop_df = pd.read_csv('us_topshop_com.csv')\n",
    "sales_platforms = sales_platforms.append({'Retail platform': 'us_topshop_com', 'Sales': len(ustopshop_df)}, ignore_index=True)"
   ]
  },
  {
   "cell_type": "code",
   "execution_count": 33,
   "id": "2bc31f0a",
   "metadata": {},
   "outputs": [
    {
     "name": "stderr",
     "output_type": "stream",
     "text": [
      "C:\\Users\\Akhmetova_Shynar\\AppData\\Local\\Temp\\ipykernel_7516\\1246305584.py:3: FutureWarning: The frame.append method is deprecated and will be removed from pandas in a future version. Use pandas.concat instead.\n",
      "  sales_platforms = sales_platforms.append({'Retail platform': 'victoriassecret_com', 'Sales': len(victoriassecret_df)}, ignore_index=True)\n"
     ]
    }
   ],
   "source": [
    "#appending sales data for vistoriassecret.com to the sales_platforms dataframe\n",
    "victoriassecret_df = pd.read_csv('victoriassecret_com.csv')\n",
    "sales_platforms = sales_platforms.append({'Retail platform': 'victoriassecret_com', 'Sales': len(victoriassecret_df)}, ignore_index=True)"
   ]
  },
  {
   "cell_type": "code",
   "execution_count": 34,
   "id": "aeb9a8d8",
   "metadata": {},
   "outputs": [
    {
     "name": "stderr",
     "output_type": "stream",
     "text": [
      "C:\\Users\\Akhmetova_Shynar\\AppData\\Local\\Temp\\ipykernel_7516\\120684827.py:2: FutureWarning: The frame.append method is deprecated and will be removed from pandas in a future version. Use pandas.concat instead.\n",
      "  sales_platforms = sales_platforms.append({'Retail platform': 'amazon_com', 'Sales': len(amazon_df)}, ignore_index=True)\n"
     ]
    },
    {
     "data": {
      "text/html": [
       "<div>\n",
       "<style scoped>\n",
       "    .dataframe tbody tr th:only-of-type {\n",
       "        vertical-align: middle;\n",
       "    }\n",
       "\n",
       "    .dataframe tbody tr th {\n",
       "        vertical-align: top;\n",
       "    }\n",
       "\n",
       "    .dataframe thead th {\n",
       "        text-align: right;\n",
       "    }\n",
       "</style>\n",
       "<table border=\"1\" class=\"dataframe\">\n",
       "  <thead>\n",
       "    <tr style=\"text-align: right;\">\n",
       "      <th></th>\n",
       "      <th>Retail platform</th>\n",
       "      <th>Sales</th>\n",
       "    </tr>\n",
       "  </thead>\n",
       "  <tbody>\n",
       "    <tr>\n",
       "      <th>0</th>\n",
       "      <td>ae_com</td>\n",
       "      <td>28328</td>\n",
       "    </tr>\n",
       "    <tr>\n",
       "      <th>1</th>\n",
       "      <td>btemptd_com</td>\n",
       "      <td>3518</td>\n",
       "    </tr>\n",
       "    <tr>\n",
       "      <th>2</th>\n",
       "      <td>calvinklein_com</td>\n",
       "      <td>4747</td>\n",
       "    </tr>\n",
       "    <tr>\n",
       "      <th>3</th>\n",
       "      <td>hankypanky_com</td>\n",
       "      <td>35005</td>\n",
       "    </tr>\n",
       "    <tr>\n",
       "      <th>4</th>\n",
       "      <td>macys_com</td>\n",
       "      <td>40897</td>\n",
       "    </tr>\n",
       "    <tr>\n",
       "      <th>5</th>\n",
       "      <td>shop_nordstrom_com</td>\n",
       "      <td>12568</td>\n",
       "    </tr>\n",
       "    <tr>\n",
       "      <th>6</th>\n",
       "      <td>us_topshop_com</td>\n",
       "      <td>3082</td>\n",
       "    </tr>\n",
       "    <tr>\n",
       "      <th>7</th>\n",
       "      <td>victoriassecret_com</td>\n",
       "      <td>453386</td>\n",
       "    </tr>\n",
       "    <tr>\n",
       "      <th>8</th>\n",
       "      <td>amazon_com</td>\n",
       "      <td>31612</td>\n",
       "    </tr>\n",
       "  </tbody>\n",
       "</table>\n",
       "</div>"
      ],
      "text/plain": [
       "       Retail platform   Sales\n",
       "0               ae_com   28328\n",
       "1          btemptd_com    3518\n",
       "2      calvinklein_com    4747\n",
       "3       hankypanky_com   35005\n",
       "4            macys_com   40897\n",
       "5   shop_nordstrom_com   12568\n",
       "6       us_topshop_com    3082\n",
       "7  victoriassecret_com  453386\n",
       "8           amazon_com   31612"
      ]
     },
     "execution_count": 34,
     "metadata": {},
     "output_type": "execute_result"
    }
   ],
   "source": [
    "#appending sales data for amazon.com to the sales_platforms dataframe\n",
    "sales_platforms = sales_platforms.append({'Retail platform': 'amazon_com', 'Sales': len(amazon_df)}, ignore_index=True)\n",
    "sales_platforms"
   ]
  },
  {
   "cell_type": "code",
   "execution_count": 35,
   "id": "7ce88c5f",
   "metadata": {},
   "outputs": [
    {
     "data": {
      "image/png": "[encoded data removed]",
      "text/plain": [
       "<Figure size 576x432 with 1 Axes>"
      ]
     },
     "metadata": {
      "needs_background": "light"
     },
     "output_type": "display_data"
    }
   ],
   "source": [
    "#visualizing the retail platform ranking in the bar chart\n",
    "plt.figure(figsize=(8, 6))\n",
    "plt.bar(sales_platforms['Retail platform'], sales_platforms['Sales'], alpha=0.7)\n",
    "plt.title('Bar chart of sales on different retail platforms')\n",
    "plt.ylabel('Sales')\n",
    "plt.xticks(rotation=45)\n",
    "plt.tight_layout();"
   ]
  },
  {
   "cell_type": "markdown",
   "id": "77600e25",
   "metadata": {},
   "source": [
    "It appears as the most successful retail platform in terms of innerwear sales is Victoria's Secret website, accounting for more than 450,00 sales for the indicated period. The second and third most successful platforms are Macys.com and Hankypanky.com with 40,897 and 35,005 sales, respectively, between June and July."
   ]
  },
  {
   "cell_type": "markdown",
   "id": "4d1cf54e",
   "metadata": {},
   "source": [
    "# (6) The logit and probit regression of high rating on price, color, and brand"
   ]
  },
  {
   "attachments": {
    "image.png": {
     "image/png": "[encoded data removed]"
    }
   },
   "cell_type": "markdown",
   "id": "d3f69098",
   "metadata": {},
   "source": [
    "![image.png](attachment:image.png)\n",
    "This formula corresponds tot he logit regression where\n",
    "<br>\n",
    "*$y^{P}$* represents estimated probability of high rating (>4.5)\n",
    "<br>\n",
    "*$β_{0}$* - estimated intercept coefficient\n",
    "<br>\n",
    "*$β_{k}$* - estimated coefficients for independent variables"
   ]
  },
  {
   "cell_type": "code",
   "execution_count": 36,
   "id": "a6aa9131",
   "metadata": {
    "scrolled": true
   },
   "outputs": [
    {
     "data": {
      "text/html": [
       "<div>\n",
       "<style scoped>\n",
       "    .dataframe tbody tr th:only-of-type {\n",
       "        vertical-align: middle;\n",
       "    }\n",
       "\n",
       "    .dataframe tbody tr th {\n",
       "        vertical-align: top;\n",
       "    }\n",
       "\n",
       "    .dataframe thead th {\n",
       "        text-align: right;\n",
       "    }\n",
       "</style>\n",
       "<table border=\"1\" class=\"dataframe\">\n",
       "  <thead>\n",
       "    <tr style=\"text-align: right;\">\n",
       "      <th></th>\n",
       "      <th>color</th>\n",
       "      <th>sales</th>\n",
       "    </tr>\n",
       "  </thead>\n",
       "  <tbody>\n",
       "    <tr>\n",
       "      <th>6</th>\n",
       "      <td>Bare</td>\n",
       "      <td>954</td>\n",
       "    </tr>\n",
       "    <tr>\n",
       "      <th>8</th>\n",
       "      <td>Black</td>\n",
       "      <td>5664</td>\n",
       "    </tr>\n",
       "    <tr>\n",
       "      <th>50</th>\n",
       "      <td>Cappuccino</td>\n",
       "      <td>1168</td>\n",
       "    </tr>\n",
       "    <tr>\n",
       "      <th>130</th>\n",
       "      <td>Ivory</td>\n",
       "      <td>1778</td>\n",
       "    </tr>\n",
       "    <tr>\n",
       "      <th>157</th>\n",
       "      <td>Naturally Nude</td>\n",
       "      <td>2825</td>\n",
       "    </tr>\n",
       "    <tr>\n",
       "      <th>234</th>\n",
       "      <td>Toast</td>\n",
       "      <td>1098</td>\n",
       "    </tr>\n",
       "    <tr>\n",
       "      <th>250</th>\n",
       "      <td>White</td>\n",
       "      <td>1480</td>\n",
       "    </tr>\n",
       "  </tbody>\n",
       "</table>\n",
       "</div>"
      ],
      "text/plain": [
       "              color  sales\n",
       "6              Bare    954\n",
       "8             Black   5664\n",
       "50       Cappuccino   1168\n",
       "130           Ivory   1778\n",
       "157  Naturally Nude   2825\n",
       "234           Toast   1098\n",
       "250           White   1480"
      ]
     },
     "execution_count": 36,
     "metadata": {},
     "output_type": "execute_result"
    }
   ],
   "source": [
    "#creating a separate dataframe containing colors with more than 500 sales on amazon.com\n",
    "colors = sales_color[sales_color.sales>500]\n",
    "colors"
   ]
  },
  {
   "cell_type": "code",
   "execution_count": 37,
   "id": "6a83ee9f",
   "metadata": {},
   "outputs": [],
   "source": [
    "#creating a separate dataframe with independent (rating) and dependent variables (price, color, and brand)\n",
    "data_df = pd.DataFrame({'price':amazon_df.price, 'rating':amazon_df.rating, 'color':amazon_df.color, 'brand_name':amazon_df.brand_name})"
   ]
  },
  {
   "cell_type": "code",
   "execution_count": 38,
   "id": "8c2e7d88",
   "metadata": {},
   "outputs": [],
   "source": [
    "#creating color columns for each sale with boolean values\n",
    "for color in colors['color']:\n",
    "    for i in range(len(data_df)):\n",
    "        if data_df.loc[i,'color']==color: data_df.loc[i,color]=1\n",
    "        else: data_df.loc[i,color]=0"
   ]
  },
  {
   "cell_type": "code",
   "execution_count": 39,
   "id": "19586d2a",
   "metadata": {},
   "outputs": [],
   "source": [
    "#creating brand columns for each sale with boolean values\n",
    "for brand in sales_brands['brand_name']:\n",
    "    for i in range(len(data_df)):\n",
    "        if data_df.loc[i,'brand_name']==brand: data_df.loc[i,brand]=1\n",
    "        else: data_df.loc[i,brand]=0"
   ]
  },
  {
   "cell_type": "code",
   "execution_count": 40,
   "id": "0c690a40",
   "metadata": {},
   "outputs": [],
   "source": [
    "#converting rating data into two categories: high rating, more than 4.5 (1) and low rating, less than 4.5 (0)\n",
    "for i in range(len(data_df)):\n",
    "    if data_df.loc[i,'rating']>=4.5: data_df.loc[i,'rating']=1\n",
    "    else: data_df.loc[i,'rating']=0"
   ]
  },
  {
   "cell_type": "code",
   "execution_count": 41,
   "id": "7f9229e6",
   "metadata": {
    "scrolled": true
   },
   "outputs": [
    {
     "data": {
      "text/html": [
       "<div>\n",
       "<style scoped>\n",
       "    .dataframe tbody tr th:only-of-type {\n",
       "        vertical-align: middle;\n",
       "    }\n",
       "\n",
       "    .dataframe tbody tr th {\n",
       "        vertical-align: top;\n",
       "    }\n",
       "\n",
       "    .dataframe thead th {\n",
       "        text-align: right;\n",
       "    }\n",
       "</style>\n",
       "<table border=\"1\" class=\"dataframe\">\n",
       "  <thead>\n",
       "    <tr style=\"text-align: right;\">\n",
       "      <th></th>\n",
       "      <th>price</th>\n",
       "      <th>rating</th>\n",
       "      <th>color</th>\n",
       "      <th>brand_name</th>\n",
       "      <th>Bare</th>\n",
       "      <th>Black</th>\n",
       "      <th>Cappuccino</th>\n",
       "      <th>Ivory</th>\n",
       "      <th>Naturally Nude</th>\n",
       "      <th>Toast</th>\n",
       "      <th>...</th>\n",
       "      <th>Compression-Comfort</th>\n",
       "      <th>Creative-Motion</th>\n",
       "      <th>Fila</th>\n",
       "      <th>Hanky-Panky</th>\n",
       "      <th>Lucky-Brand</th>\n",
       "      <th>Nintendo</th>\n",
       "      <th>Sexy-Hair</th>\n",
       "      <th>Victorias-Secret</th>\n",
       "      <th>Wacoal</th>\n",
       "      <th>b-temptd</th>\n",
       "    </tr>\n",
       "  </thead>\n",
       "  <tbody>\n",
       "    <tr>\n",
       "      <th>0</th>\n",
       "      <td>32.40</td>\n",
       "      <td>1.0</td>\n",
       "      <td>Bare</td>\n",
       "      <td>Calvin-Klein</td>\n",
       "      <td>1.0</td>\n",
       "      <td>0.0</td>\n",
       "      <td>0.0</td>\n",
       "      <td>0.0</td>\n",
       "      <td>0.0</td>\n",
       "      <td>0.0</td>\n",
       "      <td>...</td>\n",
       "      <td>0.0</td>\n",
       "      <td>0.0</td>\n",
       "      <td>0.0</td>\n",
       "      <td>0.0</td>\n",
       "      <td>0.0</td>\n",
       "      <td>0.0</td>\n",
       "      <td>0.0</td>\n",
       "      <td>0.0</td>\n",
       "      <td>0.0</td>\n",
       "      <td>0.0</td>\n",
       "    </tr>\n",
       "    <tr>\n",
       "      <th>1</th>\n",
       "      <td>27.00</td>\n",
       "      <td>0.0</td>\n",
       "      <td>Large</td>\n",
       "      <td>Wacoal</td>\n",
       "      <td>0.0</td>\n",
       "      <td>0.0</td>\n",
       "      <td>0.0</td>\n",
       "      <td>0.0</td>\n",
       "      <td>0.0</td>\n",
       "      <td>0.0</td>\n",
       "      <td>...</td>\n",
       "      <td>0.0</td>\n",
       "      <td>0.0</td>\n",
       "      <td>0.0</td>\n",
       "      <td>0.0</td>\n",
       "      <td>0.0</td>\n",
       "      <td>0.0</td>\n",
       "      <td>0.0</td>\n",
       "      <td>0.0</td>\n",
       "      <td>1.0</td>\n",
       "      <td>0.0</td>\n",
       "    </tr>\n",
       "    <tr>\n",
       "      <th>2</th>\n",
       "      <td>65.00</td>\n",
       "      <td>0.0</td>\n",
       "      <td>Black</td>\n",
       "      <td>Wacoal</td>\n",
       "      <td>0.0</td>\n",
       "      <td>1.0</td>\n",
       "      <td>0.0</td>\n",
       "      <td>0.0</td>\n",
       "      <td>0.0</td>\n",
       "      <td>0.0</td>\n",
       "      <td>...</td>\n",
       "      <td>0.0</td>\n",
       "      <td>0.0</td>\n",
       "      <td>0.0</td>\n",
       "      <td>0.0</td>\n",
       "      <td>0.0</td>\n",
       "      <td>0.0</td>\n",
       "      <td>0.0</td>\n",
       "      <td>0.0</td>\n",
       "      <td>1.0</td>\n",
       "      <td>0.0</td>\n",
       "    </tr>\n",
       "    <tr>\n",
       "      <th>3</th>\n",
       "      <td>36.00</td>\n",
       "      <td>0.0</td>\n",
       "      <td>Large</td>\n",
       "      <td>Hanky-Panky</td>\n",
       "      <td>0.0</td>\n",
       "      <td>0.0</td>\n",
       "      <td>0.0</td>\n",
       "      <td>0.0</td>\n",
       "      <td>0.0</td>\n",
       "      <td>0.0</td>\n",
       "      <td>...</td>\n",
       "      <td>0.0</td>\n",
       "      <td>0.0</td>\n",
       "      <td>0.0</td>\n",
       "      <td>1.0</td>\n",
       "      <td>0.0</td>\n",
       "      <td>0.0</td>\n",
       "      <td>0.0</td>\n",
       "      <td>0.0</td>\n",
       "      <td>0.0</td>\n",
       "      <td>0.0</td>\n",
       "    </tr>\n",
       "    <tr>\n",
       "      <th>4</th>\n",
       "      <td>65.00</td>\n",
       "      <td>0.0</td>\n",
       "      <td>Pecan</td>\n",
       "      <td>Wacoal</td>\n",
       "      <td>0.0</td>\n",
       "      <td>0.0</td>\n",
       "      <td>0.0</td>\n",
       "      <td>0.0</td>\n",
       "      <td>0.0</td>\n",
       "      <td>0.0</td>\n",
       "      <td>...</td>\n",
       "      <td>0.0</td>\n",
       "      <td>0.0</td>\n",
       "      <td>0.0</td>\n",
       "      <td>0.0</td>\n",
       "      <td>0.0</td>\n",
       "      <td>0.0</td>\n",
       "      <td>0.0</td>\n",
       "      <td>0.0</td>\n",
       "      <td>1.0</td>\n",
       "      <td>0.0</td>\n",
       "    </tr>\n",
       "    <tr>\n",
       "      <th>...</th>\n",
       "      <td>...</td>\n",
       "      <td>...</td>\n",
       "      <td>...</td>\n",
       "      <td>...</td>\n",
       "      <td>...</td>\n",
       "      <td>...</td>\n",
       "      <td>...</td>\n",
       "      <td>...</td>\n",
       "      <td>...</td>\n",
       "      <td>...</td>\n",
       "      <td>...</td>\n",
       "      <td>...</td>\n",
       "      <td>...</td>\n",
       "      <td>...</td>\n",
       "      <td>...</td>\n",
       "      <td>...</td>\n",
       "      <td>...</td>\n",
       "      <td>...</td>\n",
       "      <td>...</td>\n",
       "      <td>...</td>\n",
       "      <td>...</td>\n",
       "    </tr>\n",
       "    <tr>\n",
       "      <th>31607</th>\n",
       "      <td>65.00</td>\n",
       "      <td>0.0</td>\n",
       "      <td>Pecan</td>\n",
       "      <td>Wacoal</td>\n",
       "      <td>0.0</td>\n",
       "      <td>0.0</td>\n",
       "      <td>0.0</td>\n",
       "      <td>0.0</td>\n",
       "      <td>0.0</td>\n",
       "      <td>0.0</td>\n",
       "      <td>...</td>\n",
       "      <td>0.0</td>\n",
       "      <td>0.0</td>\n",
       "      <td>0.0</td>\n",
       "      <td>0.0</td>\n",
       "      <td>0.0</td>\n",
       "      <td>0.0</td>\n",
       "      <td>0.0</td>\n",
       "      <td>0.0</td>\n",
       "      <td>1.0</td>\n",
       "      <td>0.0</td>\n",
       "    </tr>\n",
       "    <tr>\n",
       "      <th>31608</th>\n",
       "      <td>54.50</td>\n",
       "      <td>0.0</td>\n",
       "      <td>Teaberry/Gray</td>\n",
       "      <td>Wacoal</td>\n",
       "      <td>0.0</td>\n",
       "      <td>0.0</td>\n",
       "      <td>0.0</td>\n",
       "      <td>0.0</td>\n",
       "      <td>0.0</td>\n",
       "      <td>0.0</td>\n",
       "      <td>...</td>\n",
       "      <td>0.0</td>\n",
       "      <td>0.0</td>\n",
       "      <td>0.0</td>\n",
       "      <td>0.0</td>\n",
       "      <td>0.0</td>\n",
       "      <td>0.0</td>\n",
       "      <td>0.0</td>\n",
       "      <td>0.0</td>\n",
       "      <td>1.0</td>\n",
       "      <td>0.0</td>\n",
       "    </tr>\n",
       "    <tr>\n",
       "      <th>31609</th>\n",
       "      <td>60.00</td>\n",
       "      <td>0.0</td>\n",
       "      <td>Violet Tulip</td>\n",
       "      <td>Wacoal</td>\n",
       "      <td>0.0</td>\n",
       "      <td>0.0</td>\n",
       "      <td>0.0</td>\n",
       "      <td>0.0</td>\n",
       "      <td>0.0</td>\n",
       "      <td>0.0</td>\n",
       "      <td>...</td>\n",
       "      <td>0.0</td>\n",
       "      <td>0.0</td>\n",
       "      <td>0.0</td>\n",
       "      <td>0.0</td>\n",
       "      <td>0.0</td>\n",
       "      <td>0.0</td>\n",
       "      <td>0.0</td>\n",
       "      <td>0.0</td>\n",
       "      <td>1.0</td>\n",
       "      <td>0.0</td>\n",
       "    </tr>\n",
       "    <tr>\n",
       "      <th>31610</th>\n",
       "      <td>48.00</td>\n",
       "      <td>0.0</td>\n",
       "      <td>Ivory</td>\n",
       "      <td>Wacoal</td>\n",
       "      <td>0.0</td>\n",
       "      <td>0.0</td>\n",
       "      <td>0.0</td>\n",
       "      <td>1.0</td>\n",
       "      <td>0.0</td>\n",
       "      <td>0.0</td>\n",
       "      <td>...</td>\n",
       "      <td>0.0</td>\n",
       "      <td>0.0</td>\n",
       "      <td>0.0</td>\n",
       "      <td>0.0</td>\n",
       "      <td>0.0</td>\n",
       "      <td>0.0</td>\n",
       "      <td>0.0</td>\n",
       "      <td>0.0</td>\n",
       "      <td>1.0</td>\n",
       "      <td>0.0</td>\n",
       "    </tr>\n",
       "    <tr>\n",
       "      <th>31611</th>\n",
       "      <td>43.06</td>\n",
       "      <td>0.0</td>\n",
       "      <td>Raspberry</td>\n",
       "      <td>Wacoal</td>\n",
       "      <td>0.0</td>\n",
       "      <td>0.0</td>\n",
       "      <td>0.0</td>\n",
       "      <td>0.0</td>\n",
       "      <td>0.0</td>\n",
       "      <td>0.0</td>\n",
       "      <td>...</td>\n",
       "      <td>0.0</td>\n",
       "      <td>0.0</td>\n",
       "      <td>0.0</td>\n",
       "      <td>0.0</td>\n",
       "      <td>0.0</td>\n",
       "      <td>0.0</td>\n",
       "      <td>0.0</td>\n",
       "      <td>0.0</td>\n",
       "      <td>1.0</td>\n",
       "      <td>0.0</td>\n",
       "    </tr>\n",
       "  </tbody>\n",
       "</table>\n",
       "<p>31612 rows × 22 columns</p>\n",
       "</div>"
      ],
      "text/plain": [
       "        price  rating          color    brand_name  Bare  Black  Cappuccino  \\\n",
       "0      32.40      1.0           Bare  Calvin-Klein   1.0    0.0         0.0   \n",
       "1      27.00      0.0          Large        Wacoal   0.0    0.0         0.0   \n",
       "2      65.00      0.0          Black        Wacoal   0.0    1.0         0.0   \n",
       "3      36.00      0.0          Large   Hanky-Panky   0.0    0.0         0.0   \n",
       "4      65.00      0.0          Pecan        Wacoal   0.0    0.0         0.0   \n",
       "...       ...     ...            ...           ...   ...    ...         ...   \n",
       "31607  65.00      0.0          Pecan        Wacoal   0.0    0.0         0.0   \n",
       "31608  54.50      0.0  Teaberry/Gray        Wacoal   0.0    0.0         0.0   \n",
       "31609  60.00      0.0   Violet Tulip        Wacoal   0.0    0.0         0.0   \n",
       "31610  48.00      0.0          Ivory        Wacoal   0.0    0.0         0.0   \n",
       "31611  43.06      0.0      Raspberry        Wacoal   0.0    0.0         0.0   \n",
       "\n",
       "       Ivory  Naturally Nude  Toast  ...  Compression-Comfort  \\\n",
       "0        0.0             0.0    0.0  ...                  0.0   \n",
       "1        0.0             0.0    0.0  ...                  0.0   \n",
       "2        0.0             0.0    0.0  ...                  0.0   \n",
       "3        0.0             0.0    0.0  ...                  0.0   \n",
       "4        0.0             0.0    0.0  ...                  0.0   \n",
       "...      ...             ...    ...  ...                  ...   \n",
       "31607    0.0             0.0    0.0  ...                  0.0   \n",
       "31608    0.0             0.0    0.0  ...                  0.0   \n",
       "31609    0.0             0.0    0.0  ...                  0.0   \n",
       "31610    1.0             0.0    0.0  ...                  0.0   \n",
       "31611    0.0             0.0    0.0  ...                  0.0   \n",
       "\n",
       "       Creative-Motion  Fila  Hanky-Panky  Lucky-Brand  Nintendo  Sexy-Hair  \\\n",
       "0                  0.0   0.0          0.0          0.0       0.0        0.0   \n",
       "1                  0.0   0.0          0.0          0.0       0.0        0.0   \n",
       "2                  0.0   0.0          0.0          0.0       0.0        0.0   \n",
       "3                  0.0   0.0          1.0          0.0       0.0        0.0   \n",
       "4                  0.0   0.0          0.0          0.0       0.0        0.0   \n",
       "...                ...   ...          ...          ...       ...        ...   \n",
       "31607              0.0   0.0          0.0          0.0       0.0        0.0   \n",
       "31608              0.0   0.0          0.0          0.0       0.0        0.0   \n",
       "31609              0.0   0.0          0.0          0.0       0.0        0.0   \n",
       "31610              0.0   0.0          0.0          0.0       0.0        0.0   \n",
       "31611              0.0   0.0          0.0          0.0       0.0        0.0   \n",
       "\n",
       "       Victorias-Secret  Wacoal  b-temptd  \n",
       "0                   0.0     0.0       0.0  \n",
       "1                   0.0     1.0       0.0  \n",
       "2                   0.0     1.0       0.0  \n",
       "3                   0.0     0.0       0.0  \n",
       "4                   0.0     1.0       0.0  \n",
       "...                 ...     ...       ...  \n",
       "31607               0.0     1.0       0.0  \n",
       "31608               0.0     1.0       0.0  \n",
       "31609               0.0     1.0       0.0  \n",
       "31610               0.0     1.0       0.0  \n",
       "31611               0.0     1.0       0.0  \n",
       "\n",
       "[31612 rows x 22 columns]"
      ]
     },
     "execution_count": 41,
     "metadata": {},
     "output_type": "execute_result"
    }
   ],
   "source": [
    "data_df"
   ]
  },
  {
   "cell_type": "code",
   "execution_count": 43,
   "id": "221282ec",
   "metadata": {
    "scrolled": false
   },
   "outputs": [
    {
     "name": "stdout",
     "output_type": "stream",
     "text": [
      "Warning: Maximum number of iterations has been exceeded.\n",
      "         Current function value: 0.214644\n",
      "         Iterations: 35\n"
     ]
    },
    {
     "name": "stderr",
     "output_type": "stream",
     "text": [
      "C:\\Users\\Akhmetova_Shynar\\AppData\\Roaming\\Python\\Python39\\site-packages\\statsmodels\\base\\model.py:607: ConvergenceWarning: Maximum Likelihood optimization failed to converge. Check mle_retvals\n",
      "  warnings.warn(\"Maximum Likelihood optimization failed to \"\n"
     ]
    },
    {
     "name": "stdout",
     "output_type": "stream",
     "text": [
      "                           Logit Regression Results                           \n",
      "==============================================================================\n",
      "Dep. Variable:                      y   No. Observations:                31612\n",
      "Model:                          Logit   Df Residuals:                    31592\n",
      "Method:                           MLE   Df Model:                           19\n",
      "Date:                Sun, 17 Sep 2023   Pseudo R-squ.:                  0.2498\n",
      "Time:                        17:58:20   Log-Likelihood:                -6785.3\n",
      "converged:                      False   LL-Null:                       -9045.1\n",
      "Covariance Type:            nonrobust   LLR p-value:                     0.000\n",
      "==============================================================================\n",
      "                 coef    std err          z      P>|z|      [0.025      0.975]\n",
      "------------------------------------------------------------------------------\n",
      "const          0.4575      1.121      0.408      0.683      -1.739       2.654\n",
      "x1            -0.0603      0.002    -31.204      0.000      -0.064      -0.057\n",
      "x2             0.3530      0.086      4.093      0.000       0.184       0.522\n",
      "x3            -0.5117      0.065     -7.869      0.000      -0.639      -0.384\n",
      "x4            -1.6786      0.295     -5.691      0.000      -2.257      -1.101\n",
      "x5            -1.0527      0.204     -5.154      0.000      -1.453      -0.652\n",
      "x6            -2.5907      0.320     -8.086      0.000      -3.219      -1.963\n",
      "x7            -1.2615      0.230     -5.474      0.000      -1.713      -0.810\n",
      "x8            -1.0541      0.137     -7.668      0.000      -1.324      -0.785\n",
      "x9             0.2294      1.120      0.205      0.838      -1.965       2.424\n",
      "x10          -66.0648   1.77e+15  -3.73e-14      1.000   -3.47e+15    3.47e+15\n",
      "x11          -62.6370   6.15e+13  -1.02e-12      1.000   -1.21e+14    1.21e+14\n",
      "x12          -62.9571   8.42e+13  -7.48e-13      1.000   -1.65e+14    1.65e+14\n",
      "x13           -3.5463      1.227     -2.891      0.004      -5.951      -1.142\n",
      "x14          -62.2203   4.07e+13  -1.53e-12      1.000   -7.97e+13    7.97e+13\n",
      "x15          -63.1738   1.04e+14  -6.07e-13      1.000   -2.04e+14    2.04e+14\n",
      "x16          -76.3755   3.71e+17  -2.06e-16      1.000   -7.26e+17    7.26e+17\n",
      "x17            1.5187      1.148      1.322      0.186      -0.732       3.770\n",
      "x18           -0.2971      1.120     -0.265      0.791      -2.492       1.898\n",
      "x19          -23.0608   3084.303     -0.007      0.994   -6068.183    6022.061\n",
      "==============================================================================\n",
      "\n",
      "Possibly complete quasi-separation: A fraction 0.11 of observations can be\n",
      "perfectly predicted. This might indicate that there is complete\n",
      "quasi-separation. In this case some parameters will not be identified.\n"
     ]
    }
   ],
   "source": [
    "#conducting a logistic regression\n",
    "import statsmodels.api as sm\n",
    "\n",
    "#independent variables\n",
    "X = np.asarray(data_df[['price','Bare', 'Black', 'Cappuccino', 'Ivory', 'Naturally Nude', 'Toast', 'White', 'Calvin-Klein',\n",
    "             'Compression-Comfort', 'Creative-Motion', 'Fila', 'Hanky-Panky', 'Lucky-Brand', 'Nintendo', 'Sexy-Hair', 'Victorias-Secret', 'Wacoal', 'b-temptd']], dtype=np.float64)\n",
    "#dependent variable\n",
    "y = np.asarray(data_df['rating'], dtype=np.float64)\n",
    "\n",
    "#adding a constant to the independent variables (intercept)\n",
    "X = sm.add_constant(X)\n",
    "\n",
    "#fitting a logistic regression model\n",
    "model_logit = sm.Logit(y, X)\n",
    "\n",
    "#fitting the model\n",
    "result_logit = model_logit.fit()\n",
    "\n",
    "print(result_logit.summary())"
   ]
  },
  {
   "cell_type": "markdown",
   "id": "833b586d",
   "metadata": {},
   "source": [
    "For logit and probit models, we do **not** interpret coefficients. Instead, wetransform them into marginal differences (effects) for interpretation purposes."
   ]
  },
  {
   "cell_type": "code",
   "execution_count": 57,
   "id": "3346721d",
   "metadata": {},
   "outputs": [
    {
     "name": "stdout",
     "output_type": "stream",
     "text": [
      "        Logit Marginal Effects       \n",
      "=====================================\n",
      "Dep. Variable:                      y\n",
      "Method:                          dydx\n",
      "At:                           overall\n",
      "==============================================================================\n",
      "                dy/dx    std err          z      P>|z|      [0.025      0.975]\n",
      "------------------------------------------------------------------------------\n",
      "x1            -0.0038      0.000    -32.117      0.000      -0.004      -0.004\n",
      "x2             0.0222      0.005      4.091      0.000       0.012       0.033\n",
      "x3            -0.0322      0.004     -7.879      0.000      -0.040      -0.024\n",
      "x4            -0.1057      0.019     -5.683      0.000      -0.142      -0.069\n",
      "x5            -0.0663      0.013     -5.141      0.000      -0.092      -0.041\n",
      "x6            -0.1632      0.020     -8.043      0.000      -0.203      -0.123\n",
      "x7            -0.0794      0.015     -5.466      0.000      -0.108      -0.051\n",
      "x8            -0.0664      0.009     -7.671      0.000      -0.083      -0.049\n",
      "x9             0.0144      0.071      0.205      0.838      -0.124       0.153\n",
      "x10           -4.1606   1.12e+14  -3.73e-14      1.000   -2.19e+14    2.19e+14\n",
      "x11           -3.9448   3.87e+12  -1.02e-12      1.000   -7.59e+12    7.59e+12\n",
      "x12           -3.9649    5.3e+12  -7.48e-13      1.000   -1.04e+13    1.04e+13\n",
      "x13           -0.2233      0.077     -2.890      0.004      -0.375      -0.072\n",
      "x14           -3.9185   2.56e+12  -1.53e-12      1.000   -5.02e+12    5.02e+12\n",
      "x15           -3.9786   6.55e+12  -6.07e-13      1.000   -1.28e+13    1.28e+13\n",
      "x16           -4.8100   2.33e+16  -2.06e-16      1.000   -4.57e+16    4.57e+16\n",
      "x17            0.0956      0.072      1.323      0.186      -0.046       0.237\n",
      "x18           -0.0187      0.071     -0.265      0.791      -0.157       0.120\n",
      "x19           -1.4523    194.243     -0.007      0.994    -382.162     379.258\n",
      "==============================================================================\n",
      "                     Marginal_Effect     Std_Error             z  \\\n",
      "price                      -0.003801  1.183326e-04 -3.211741e+01   \n",
      "Bare                        0.022230  5.433889e-03  4.091078e+00   \n",
      "Black                      -0.032227  4.090331e-03 -7.878741e+00   \n",
      "Cappuccino                 -0.105718  1.860308e-02 -5.682811e+00   \n",
      "Ivory                      -0.066298  1.289491e-02 -5.141369e+00   \n",
      "Naturally Nude             -0.163155  2.028635e-02 -8.042605e+00   \n",
      "Toast                      -0.079448  1.453425e-02 -5.466275e+00   \n",
      "White                      -0.066384  8.654183e-03 -7.670781e+00   \n",
      "Calvin-Klein                0.014450  7.050402e-02  2.049492e-01   \n",
      "Compression-Comfort        -4.160634  1.116424e+14 -3.726750e-14   \n",
      "Creative-Motion            -3.944759  3.873857e+12 -1.018303e-12   \n",
      "Fila                       -3.964914  5.303983e+12 -7.475353e-13   \n",
      "Hanky-Panky                -0.223341  7.727912e-02 -2.890053e+00   \n",
      "Lucky-Brand                -3.918515  2.560261e+12 -1.530514e-12   \n",
      "Nintendo                   -3.978561  6.549540e+12 -6.074566e-13   \n",
      "Sexy-Hair                  -4.809983  2.334043e+16 -2.060794e-16   \n",
      "Victorias-Secret            0.095642  7.231744e-02  1.322526e+00   \n",
      "Wacoal                     -0.018708  7.053695e-02 -2.652268e-01   \n",
      "b-temptd                   -1.452324  1.942434e+02 -7.476822e-03   \n",
      "\n",
      "                           P_Value  \n",
      "price                2.519812e-226  \n",
      "Bare                  4.293731e-05  \n",
      "Black                 3.306971e-15  \n",
      "Cappuccino            1.324983e-08  \n",
      "Ivory                 2.727431e-07  \n",
      "Naturally Nude        8.794836e-16  \n",
      "Toast                 4.595908e-08  \n",
      "White                 1.709523e-14  \n",
      "Calvin-Klein          8.376118e-01  \n",
      "Compression-Comfort   1.000000e+00  \n",
      "Creative-Motion       1.000000e+00  \n",
      "Fila                  1.000000e+00  \n",
      "Hanky-Panky           3.851773e-03  \n",
      "Lucky-Brand           1.000000e+00  \n",
      "Nintendo              1.000000e+00  \n",
      "Sexy-Hair             1.000000e+00  \n",
      "Victorias-Secret      1.859929e-01  \n",
      "Wacoal                7.908347e-01  \n",
      "b-temptd              9.940344e-01  \n"
     ]
    }
   ],
   "source": [
    "marginal_effects_logit = result_logit.get_margeff()\n",
    "\n",
    "# Display the marginal effects\n",
    "print(marginal_effects_logit.summary())\n",
    "\n",
    "# Extract the relevant information for a DataFrame\n",
    "summary_data = {\n",
    "    'Marginal_Effect': marginal_effects_logit.margeff,\n",
    "    'Std_Error': marginal_effects_logit.margeff_se,\n",
    "    'z': marginal_effects_logit.tvalues,\n",
    "    'P_Value': marginal_effects_logit.pvalues,\n",
    "}\n",
    "\n",
    "# Create a DataFrame from the extracted information\n",
    "marginal_effects_logit_df = pd.DataFrame(summary_data)\n",
    "marginal_effects_logit_df.index = ['price','Bare', 'Black', 'Cappuccino', 'Ivory', 'Naturally Nude', 'Toast', 'White', 'Calvin-Klein', 'Compression-Comfort', 'Creative-Motion', 'Fila', 'Hanky-Panky', 'Lucky-Brand', 'Nintendo', 'Sexy-Hair', 'Victorias-Secret', 'Wacoal', 'b-temptd']\n",
    "# Print the marginal effects DataFrame\n",
    "print(marginal_effects_logit_df)"
   ]
  },
  {
   "cell_type": "markdown",
   "id": "f0ee455d",
   "metadata": {},
   "source": [
    "It appears that our logistic regression explains approximately 25% of variation within the data, according to the produced pseudo R-squared. It is also evident that generated coefficients for price and colors are statistically significant (extremely small p-values and confidence intervals do not include 0), while coefficients for brands are mostly not.\n",
    "\n",
    "We can interpret the price coefficient the following way:\n",
    "*The probability of high rating (>4.5) of the innerwear product is expected to be lower by approximately 0.38 percentage points, on average, for the increase in price by $1, controlling for other variables.*"
   ]
  },
  {
   "cell_type": "code",
   "execution_count": 58,
   "id": "ceff523c",
   "metadata": {},
   "outputs": [
    {
     "data": {
      "image/png": "[encoded data removed]",
      "text/plain": [
       "<Figure size 576x432 with 1 Axes>"
      ]
     },
     "metadata": {
      "needs_background": "light"
     },
     "output_type": "display_data"
    }
   ],
   "source": [
    "#predicting the probabilities using the logistic regression model\n",
    "pred_probs_logit = result_logit.predict(X)\n",
    "#visualizing predicted probabilities vs actual values of high rating\n",
    "plt.figure(figsize=(8, 6))\n",
    "plt.scatter(X[:,1], pred_probs_logit, color='blue', label='Predicted Probabilities', alpha=0.5)\n",
    "plt.scatter(X[:,1], y, color='red', marker='x', label='Actual Rating', alpha=0.5)\n",
    "plt.xlabel('Price, USD')\n",
    "plt.ylabel('Probability of Rating Being Higher than 4.5')\n",
    "plt.title('High Rating: Predicted vs Actual Probabilities - Logit Model')\n",
    "plt.legend();"
   ]
  },
  {
   "cell_type": "code",
   "execution_count": 59,
   "id": "8dc8ba8b",
   "metadata": {},
   "outputs": [
    {
     "data": {
      "image/png": "[encoded data removed]",
      "text/plain": [
       "<Figure size 576x432 with 1 Axes>"
      ]
     },
     "metadata": {
      "needs_background": "light"
     },
     "output_type": "display_data"
    }
   ],
   "source": [
    "#choosing the independent variable to focus on\n",
    "independent_variable='price'\n",
    "\n",
    "price_values = X[:, 1]\n",
    "\n",
    "#generating a range of values for the chosen independent variable\n",
    "x_range = np.linspace(price_values.min(), price_values.max(), 100)\n",
    "\n",
    "#creating a meshgrid with fixed values for the other independent variables\n",
    "X_pred = np.zeros((len(x_range), X.shape[1]))\n",
    "X_pred[:, 0] = 1  #setting the constant term\n",
    "X_pred[:, 1] = x_range  #setting the chosen independent variable\n",
    "\n",
    "#predicting the probabilities using the logistic regression model\n",
    "y_pred_logit = result_logit.predict(X_pred)\n",
    "\n",
    "#plotting the S-shaped curve for the chosen independent variable\n",
    "plt.figure(figsize=(8, 6))\n",
    "plt.plot(x_range, y_pred_logit, color='blue', label='S-shaped Curve', linewidth=2)\n",
    "plt.xlabel(independent_variable+', USD')\n",
    "plt.ylabel('Probability of High Rating')\n",
    "plt.title(f'S-shaped Curve for High Rating vs. {independent_variable} - Logit Model')\n",
    "plt.legend()\n",
    "plt.grid(True);"
   ]
  },
  {
   "attachments": {
    "image-2.png": {
     "image/png": "[encoded data removed]"
    },
    "image.png": {
     "image/png": "[encoded data removed]"
    }
   },
   "cell_type": "markdown",
   "id": "fea92168",
   "metadata": {},
   "source": [
    "![image.png](attachment:image.png)\n",
    "![image-2.png](attachment:image-2.png)\n",
    "This formula corresponds to the probit regression where\n",
    "<br>\n",
    "*$y^{P}$* represents estimated probability of high rating (>4.5)\n",
    "<br>\n",
    "*$β_{0}$* - estimated intercept coefficient\n",
    "<br>\n",
    "*$β_{k}$* - estimated coefficients for independent variables"
   ]
  },
  {
   "cell_type": "code",
   "execution_count": 61,
   "id": "f3bc28c9",
   "metadata": {},
   "outputs": [
    {
     "name": "stdout",
     "output_type": "stream",
     "text": [
      "Warning: Maximum number of iterations has been exceeded.\n",
      "         Current function value: 0.214171\n",
      "         Iterations: 35\n"
     ]
    },
    {
     "name": "stderr",
     "output_type": "stream",
     "text": [
      "C:\\Users\\Akhmetova_Shynar\\AppData\\Roaming\\Python\\Python39\\site-packages\\statsmodels\\base\\model.py:607: ConvergenceWarning: Maximum Likelihood optimization failed to converge. Check mle_retvals\n",
      "  warnings.warn(\"Maximum Likelihood optimization failed to \"\n"
     ]
    },
    {
     "name": "stdout",
     "output_type": "stream",
     "text": [
      "                          Probit Regression Results                           \n",
      "==============================================================================\n",
      "Dep. Variable:                      y   No. Observations:                31612\n",
      "Model:                         Probit   Df Residuals:                    31592\n",
      "Method:                           MLE   Df Model:                           19\n",
      "Date:                Sun, 17 Sep 2023   Pseudo R-squ.:                  0.2515\n",
      "Time:                        19:14:57   Log-Likelihood:                -6770.4\n",
      "converged:                      False   LL-Null:                       -9045.1\n",
      "Covariance Type:            nonrobust   LLR p-value:                     0.000\n",
      "==============================================================================\n",
      "                 coef    std err          z      P>|z|      [0.025      0.975]\n",
      "------------------------------------------------------------------------------\n",
      "const          0.0911      0.630      0.145      0.885      -1.144       1.327\n",
      "x1            -0.0310      0.001    -31.166      0.000      -0.033      -0.029\n",
      "x2             0.1305      0.050      2.611      0.009       0.033       0.228\n",
      "x3            -0.3104      0.034     -9.249      0.000      -0.376      -0.245\n",
      "x4            -0.6718      0.112     -5.983      0.000      -0.892      -0.452\n",
      "x5            -0.4094      0.081     -5.070      0.000      -0.568      -0.251\n",
      "x6            -1.0100      0.110     -9.222      0.000      -1.225      -0.795\n",
      "x7            -0.5063      0.091     -5.562      0.000      -0.685      -0.328\n",
      "x8            -0.6328      0.070     -9.022      0.000      -0.770      -0.495\n",
      "x9             0.1891      0.630      0.300      0.764      -1.045       1.423\n",
      "x10           -3.7479   6571.403     -0.001      1.000   -1.29e+04    1.29e+04\n",
      "x11           -5.4934   6654.292     -0.001      0.999    -1.3e+04     1.3e+04\n",
      "x12           -5.3344   6646.205     -0.001      0.999    -1.3e+04     1.3e+04\n",
      "x13           -1.6157      0.656     -2.462      0.014      -2.902      -0.329\n",
      "x14           -5.7055   6665.107     -0.001      0.999   -1.31e+04    1.31e+04\n",
      "x15           -5.2286   6640.832     -0.001      0.999    -1.3e+04     1.3e+04\n",
      "x16           -3.7917   6529.181     -0.001      1.000   -1.28e+04    1.28e+04\n",
      "x17            0.8900      0.648      1.373      0.170      -0.381       2.161\n",
      "x18           -0.1338      0.630     -0.212      0.832      -1.368       1.101\n",
      "x19           -5.0215     30.043     -0.167      0.867     -63.905      53.862\n",
      "==============================================================================\n",
      "\n",
      "Possibly complete quasi-separation: A fraction 0.11 of observations can be\n",
      "perfectly predicted. This might indicate that there is complete\n",
      "quasi-separation. In this case some parameters will not be identified.\n"
     ]
    }
   ],
   "source": [
    "#conducting a probit regression\n",
    "#fitting a probit regression model\n",
    "import statsmodels.api as sm\n",
    "model_probit = sm.Probit(y, X)\n",
    "\n",
    "#fitting the model\n",
    "result_probit = model_probit.fit()\n",
    "\n",
    "print(result_probit.summary())"
   ]
  },
  {
   "cell_type": "code",
   "execution_count": 62,
   "id": "8330ac72",
   "metadata": {},
   "outputs": [
    {
     "name": "stdout",
     "output_type": "stream",
     "text": [
      "       Probit Marginal Effects       \n",
      "=====================================\n",
      "Dep. Variable:                      y\n",
      "Method:                          dydx\n",
      "At:                           overall\n",
      "==============================================================================\n",
      "                dy/dx    std err          z      P>|z|      [0.025      0.975]\n",
      "------------------------------------------------------------------------------\n",
      "x1            -0.0036      0.000    -31.519      0.000      -0.004      -0.003\n",
      "x2             0.0152      0.006      2.609      0.009       0.004       0.027\n",
      "x3            -0.0362      0.004     -9.277      0.000      -0.044      -0.029\n",
      "x4            -0.0783      0.013     -5.977      0.000      -0.104      -0.053\n",
      "x5            -0.0477      0.009     -5.063      0.000      -0.066      -0.029\n",
      "x6            -0.1177      0.013     -9.186      0.000      -0.143      -0.093\n",
      "x7            -0.0590      0.011     -5.557      0.000      -0.080      -0.038\n",
      "x8            -0.0738      0.008     -9.043      0.000      -0.090      -0.058\n",
      "x9             0.0220      0.073      0.300      0.764      -0.122       0.166\n",
      "x10           -0.4369    766.046     -0.001      1.000   -1501.859    1500.985\n",
      "x11           -0.6404    775.708     -0.001      0.999   -1521.001    1519.720\n",
      "x12           -0.6218    774.766     -0.001      0.999   -1519.135    1517.891\n",
      "x13           -0.1884      0.077     -2.462      0.014      -0.338      -0.038\n",
      "x14           -0.6651    776.969     -0.001      0.999   -1523.497    1522.167\n",
      "x15           -0.6095    774.139     -0.001      0.999   -1517.895    1516.676\n",
      "x16           -0.4420    761.124     -0.001      1.000   -1492.218    1491.333\n",
      "x17            0.1038      0.076      1.373      0.170      -0.044       0.252\n",
      "x18           -0.0156      0.073     -0.212      0.832      -0.160       0.128\n",
      "x19           -0.5854      3.502     -0.167      0.867      -7.450       6.279\n",
      "==============================================================================\n",
      "                     Marginal_Effect   Std_Error          z        P_Value\n",
      "price                      -0.003617    0.000115 -31.519422  4.707525e-218\n",
      "Bare                        0.015213    0.005830   2.609311   9.072486e-03\n",
      "Black                      -0.036184    0.003900  -9.276885   1.745051e-20\n",
      "Cappuccino                 -0.078318    0.013103  -5.977141   2.270883e-09\n",
      "Ivory                      -0.047726    0.009426  -5.063081   4.125337e-07\n",
      "Naturally Nude             -0.117744    0.012817  -9.186294   4.066085e-20\n",
      "Toast                      -0.059021    0.010622  -5.556753   2.748390e-08\n",
      "White                      -0.073764    0.008157  -9.042899   1.525704e-19\n",
      "Calvin-Klein                0.022045    0.073414   0.300278   7.639649e-01\n",
      "Compression-Comfort        -0.436903  766.045815  -0.000570   9.995449e-01\n",
      "Creative-Motion            -0.640376  775.708495  -0.000826   9.993413e-01\n",
      "Fila                       -0.621844  774.765750  -0.000803   9.993596e-01\n",
      "Hanky-Panky                -0.188351    0.076515  -2.461637   1.383047e-02\n",
      "Lucky-Brand                -0.665111  776.969216  -0.000856   9.993170e-01\n",
      "Nintendo                   -0.609513  774.139369  -0.000787   9.993718e-01\n",
      "Sexy-Hair                  -0.442010  761.123933  -0.000581   9.995366e-01\n",
      "Victorias-Secret            0.103753    0.075580   1.372758   1.698277e-01\n",
      "Wacoal                     -0.015593    0.073436  -0.212334   8.318466e-01\n",
      "b-temptd                   -0.585367    3.502207  -0.167142   8.672581e-01\n"
     ]
    }
   ],
   "source": [
    "#from statsmodels.discrete.discrete_margins import get_margeff\n",
    "marginal_effects_probit = result_probit.get_margeff()\n",
    "\n",
    "# Display the marginal effects\n",
    "print(marginal_effects_probit.summary())\n",
    "\n",
    "# Extract the relevant information for a DataFrame\n",
    "summary_data = {\n",
    "    'Marginal_Effect': marginal_effects_probit.margeff,\n",
    "    'Std_Error': marginal_effects_probit.margeff_se,\n",
    "    'z': marginal_effects_probit.tvalues,\n",
    "    'P_Value': marginal_effects_probit.pvalues,\n",
    "}\n",
    "\n",
    "# Create a DataFrame from the extracted information\n",
    "marginal_effects_probit_df = pd.DataFrame(summary_data)\n",
    "marginal_effects_probit_df.index = ['price','Bare', 'Black', 'Cappuccino', 'Ivory', 'Naturally Nude', 'Toast', 'White', 'Calvin-Klein', 'Compression-Comfort', 'Creative-Motion', 'Fila', 'Hanky-Panky', 'Lucky-Brand', 'Nintendo', 'Sexy-Hair', 'Victorias-Secret', 'Wacoal', 'b-temptd']\n",
    "# Print the marginal effects DataFrame\n",
    "print(marginal_effects_probit_df)"
   ]
  },
  {
   "cell_type": "markdown",
   "id": "57c9e0b2",
   "metadata": {},
   "source": [
    "It appears that our probit regression explains approximately 25.15% of variation within the data, according to the produced pseudo R-squared. It is also evident that generated coefficients for price and colors are statistically significant (extremely small p-values and confidence intervals do not include 0), while coefficients for brands are mostly not.\n",
    "\n",
    "We can interpret the price coefficient the following way:\n",
    "*The probability of high rating (>4.5) of the innerwear product is expected to be lower by approximately 0.36 percentage points, on average, for the increase in price by $1, controlling for other variables.*"
   ]
  },
  {
   "cell_type": "code",
   "execution_count": 63,
   "id": "3ec3ab12",
   "metadata": {},
   "outputs": [
    {
     "data": {
      "image/png": "[encoded data removed]",
      "text/plain": [
       "<Figure size 576x432 with 1 Axes>"
      ]
     },
     "metadata": {
      "needs_background": "light"
     },
     "output_type": "display_data"
    }
   ],
   "source": [
    "#predicting the probabilities using the probit regression model\n",
    "pred_probs_probit = result_probit.predict(X)\n",
    "#visualizing predicted probabilities vs actual values of high rating\n",
    "plt.figure(figsize=(8, 6))\n",
    "plt.scatter(X[:,1], pred_probs_probit, color='blue', label='Predicted Probabilities', alpha=0.5)\n",
    "plt.scatter(X[:,1], y, color='red', marker='x', label='Actual Rating', alpha=0.5)\n",
    "plt.xlabel('Price, USD')\n",
    "plt.ylabel('Probability of Rating Being Higher than 4.5')\n",
    "plt.title('High Rating: Predicted vs Actual Probabilities - Probit Model')\n",
    "plt.legend();"
   ]
  },
  {
   "cell_type": "code",
   "execution_count": 64,
   "id": "56958545",
   "metadata": {
    "scrolled": true
   },
   "outputs": [
    {
     "data": {
      "image/png": "[encoded data removed]",
      "text/plain": [
       "<Figure size 576x432 with 1 Axes>"
      ]
     },
     "metadata": {
      "needs_background": "light"
     },
     "output_type": "display_data"
    }
   ],
   "source": [
    "#predicting the probabilities using the probit regression model\n",
    "y_pred_probit = result_probit.predict(X_pred)\n",
    "\n",
    "#plotting the S-shaped curve for the chosen independent variable\n",
    "plt.figure(figsize=(8, 6))\n",
    "plt.plot(x_range, y_pred_probit, color='blue', label='S-shaped Curve', linewidth=2)\n",
    "plt.xlabel(independent_variable+', USD')\n",
    "plt.ylabel('Probability of High Rating')\n",
    "plt.title(f'S-shaped Curve for High Rating vs. {independent_variable} - Probit Model')\n",
    "plt.legend()\n",
    "plt.grid(True);"
   ]
  },
  {
   "cell_type": "markdown",
   "id": "ee60c2d2",
   "metadata": {},
   "source": [
    "# Conclusions\n",
    "With some confidence we can claim that there is correlation between rating and price (inverse relatiosnhip) and very small positive correlation between sales and price. We also found out that Top-3 brands in terms of sales for June-July 2017 are Wacoal, Calvin-Klein, and b-temptd. Top-3 colors are Black, Naturally Nude, and Ivory. Lastly, Top-3 retail platforms for innerwear items are Victoriassecret.com, Macys.com, and Hankypanky.com."
   ]
  }
 ],
 "metadata": {
  "kernelspec": {
   "display_name": "Python 3 (ipykernel)",
   "language": "python",
   "name": "python3"
  },
  "language_info": {
   "codemirror_mode": {
    "name": "ipython",
    "version": 3
   },
   "file_extension": ".py",
   "mimetype": "text/x-python",
   "name": "python",
   "nbconvert_exporter": "python",
   "pygments_lexer": "ipython3",
   "version": "3.9.12"
  }
 },
 "nbformat": 4,
 "nbformat_minor": 5
}
